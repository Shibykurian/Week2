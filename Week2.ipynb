{
 "cells": [
  {
   "cell_type": "code",
   "execution_count": 1,
   "id": "b0d2c31f",
   "metadata": {},
   "outputs": [],
   "source": [
    "import pandas as pd\n",
    "import numpy as np\n",
    "import matplotlib.pyplot as plt\n",
    "import seaborn as sns\n",
    "import warnings\n",
    "warnings.filterwarnings('ignore')"
   ]
  },
  {
   "cell_type": "markdown",
   "id": "e1b2fbfb",
   "metadata": {},
   "source": [
    "# Reading the dataset"
   ]
  },
  {
   "cell_type": "code",
   "execution_count": 2,
   "id": "6b5130cd",
   "metadata": {},
   "outputs": [],
   "source": [
    "cab = pd.read_csv('Cab_Data.csv')\n",
    "customer = pd.read_csv('Customer_ID.csv')\n",
    "city = pd.read_csv('City.csv')\n",
    "transaction = pd.read_csv('Transaction_ID.csv')"
   ]
  },
  {
   "cell_type": "markdown",
   "id": "c6a7d52e",
   "metadata": {},
   "source": [
    "## Cab Dataset "
   ]
  },
  {
   "cell_type": "code",
   "execution_count": 3,
   "id": "a28734f8",
   "metadata": {},
   "outputs": [
    {
     "data": {
      "text/html": [
       "<div>\n",
       "<style scoped>\n",
       "    .dataframe tbody tr th:only-of-type {\n",
       "        vertical-align: middle;\n",
       "    }\n",
       "\n",
       "    .dataframe tbody tr th {\n",
       "        vertical-align: top;\n",
       "    }\n",
       "\n",
       "    .dataframe thead th {\n",
       "        text-align: right;\n",
       "    }\n",
       "</style>\n",
       "<table border=\"1\" class=\"dataframe\">\n",
       "  <thead>\n",
       "    <tr style=\"text-align: right;\">\n",
       "      <th></th>\n",
       "      <th>Transaction ID</th>\n",
       "      <th>Date of Travel</th>\n",
       "      <th>Company</th>\n",
       "      <th>City</th>\n",
       "      <th>KM Travelled</th>\n",
       "      <th>Price Charged</th>\n",
       "      <th>Cost of Trip</th>\n",
       "    </tr>\n",
       "  </thead>\n",
       "  <tbody>\n",
       "    <tr>\n",
       "      <th>0</th>\n",
       "      <td>10000011</td>\n",
       "      <td>08/01/16</td>\n",
       "      <td>Pink Cab</td>\n",
       "      <td>ATLANTA GA</td>\n",
       "      <td>30.45</td>\n",
       "      <td>370.95</td>\n",
       "      <td>313.635</td>\n",
       "    </tr>\n",
       "    <tr>\n",
       "      <th>1</th>\n",
       "      <td>10000012</td>\n",
       "      <td>06/01/16</td>\n",
       "      <td>Pink Cab</td>\n",
       "      <td>ATLANTA GA</td>\n",
       "      <td>28.62</td>\n",
       "      <td>358.52</td>\n",
       "      <td>334.854</td>\n",
       "    </tr>\n",
       "    <tr>\n",
       "      <th>2</th>\n",
       "      <td>10000013</td>\n",
       "      <td>02/01/16</td>\n",
       "      <td>Pink Cab</td>\n",
       "      <td>ATLANTA GA</td>\n",
       "      <td>9.04</td>\n",
       "      <td>125.20</td>\n",
       "      <td>97.632</td>\n",
       "    </tr>\n",
       "    <tr>\n",
       "      <th>3</th>\n",
       "      <td>10000014</td>\n",
       "      <td>07/01/16</td>\n",
       "      <td>Pink Cab</td>\n",
       "      <td>ATLANTA GA</td>\n",
       "      <td>33.17</td>\n",
       "      <td>377.40</td>\n",
       "      <td>351.602</td>\n",
       "    </tr>\n",
       "    <tr>\n",
       "      <th>4</th>\n",
       "      <td>10000015</td>\n",
       "      <td>03/01/16</td>\n",
       "      <td>Pink Cab</td>\n",
       "      <td>ATLANTA GA</td>\n",
       "      <td>8.73</td>\n",
       "      <td>114.62</td>\n",
       "      <td>97.776</td>\n",
       "    </tr>\n",
       "  </tbody>\n",
       "</table>\n",
       "</div>"
      ],
      "text/plain": [
       "   Transaction ID Date of Travel   Company        City  KM Travelled  \\\n",
       "0        10000011       08/01/16  Pink Cab  ATLANTA GA         30.45   \n",
       "1        10000012       06/01/16  Pink Cab  ATLANTA GA         28.62   \n",
       "2        10000013       02/01/16  Pink Cab  ATLANTA GA          9.04   \n",
       "3        10000014       07/01/16  Pink Cab  ATLANTA GA         33.17   \n",
       "4        10000015       03/01/16  Pink Cab  ATLANTA GA          8.73   \n",
       "\n",
       "   Price Charged  Cost of Trip  \n",
       "0         370.95       313.635  \n",
       "1         358.52       334.854  \n",
       "2         125.20        97.632  \n",
       "3         377.40       351.602  \n",
       "4         114.62        97.776  "
      ]
     },
     "execution_count": 3,
     "metadata": {},
     "output_type": "execute_result"
    }
   ],
   "source": [
    "cab.head(5)"
   ]
  },
  {
   "cell_type": "code",
   "execution_count": 4,
   "id": "1794d263",
   "metadata": {},
   "outputs": [
    {
     "data": {
      "text/plain": [
       "(359392, 7)"
      ]
     },
     "execution_count": 4,
     "metadata": {},
     "output_type": "execute_result"
    }
   ],
   "source": [
    "cab.shape"
   ]
  },
  {
   "cell_type": "code",
   "execution_count": 5,
   "id": "3e54cdc3",
   "metadata": {},
   "outputs": [
    {
     "data": {
      "text/plain": [
       "<bound method DataFrame.info of         Transaction ID Date of Travel     Company           City  \\\n",
       "0             10000011       08/01/16    Pink Cab     ATLANTA GA   \n",
       "1             10000012       06/01/16    Pink Cab     ATLANTA GA   \n",
       "2             10000013       02/01/16    Pink Cab     ATLANTA GA   \n",
       "3             10000014       07/01/16    Pink Cab     ATLANTA GA   \n",
       "4             10000015       03/01/16    Pink Cab     ATLANTA GA   \n",
       "...                ...            ...         ...            ...   \n",
       "359387        10440101       08/01/18  Yellow Cab  WASHINGTON DC   \n",
       "359388        10440104       04/01/18  Yellow Cab  WASHINGTON DC   \n",
       "359389        10440105       05/01/18  Yellow Cab  WASHINGTON DC   \n",
       "359390        10440106       05/01/18  Yellow Cab  WASHINGTON DC   \n",
       "359391        10440107       02/01/18  Yellow Cab  WASHINGTON DC   \n",
       "\n",
       "        KM Travelled  Price Charged  Cost of Trip  \n",
       "0              30.45         370.95      313.6350  \n",
       "1              28.62         358.52      334.8540  \n",
       "2               9.04         125.20       97.6320  \n",
       "3              33.17         377.40      351.6020  \n",
       "4               8.73         114.62       97.7760  \n",
       "...              ...            ...           ...  \n",
       "359387          4.80          69.24       63.3600  \n",
       "359388          8.40         113.75      106.8480  \n",
       "359389         27.75         437.07      349.6500  \n",
       "359390          8.80         146.19      114.0480  \n",
       "359391         12.76         191.58      177.6192  \n",
       "\n",
       "[359392 rows x 7 columns]>"
      ]
     },
     "execution_count": 5,
     "metadata": {},
     "output_type": "execute_result"
    }
   ],
   "source": [
    "#summary of cab dataset\n",
    "cab.info"
   ]
  },
  {
   "cell_type": "code",
   "execution_count": 6,
   "id": "7ba9d736",
   "metadata": {},
   "outputs": [
    {
     "data": {
      "text/plain": [
       "Transaction ID    0\n",
       "Date of Travel    0\n",
       "Company           0\n",
       "City              0\n",
       "KM Travelled      0\n",
       "Price Charged     0\n",
       "Cost of Trip      0\n",
       "dtype: int64"
      ]
     },
     "execution_count": 6,
     "metadata": {},
     "output_type": "execute_result"
    }
   ],
   "source": [
    "#checking null values\n",
    "cab.isna().sum()"
   ]
  },
  {
   "cell_type": "code",
   "execution_count": 7,
   "id": "e8ec61a8",
   "metadata": {},
   "outputs": [
    {
     "data": {
      "text/plain": [
       "0         False\n",
       "1         False\n",
       "2         False\n",
       "3         False\n",
       "4         False\n",
       "          ...  \n",
       "359387    False\n",
       "359388    False\n",
       "359389    False\n",
       "359390    False\n",
       "359391    False\n",
       "Length: 359392, dtype: bool"
      ]
     },
     "execution_count": 7,
     "metadata": {},
     "output_type": "execute_result"
    }
   ],
   "source": [
    "# checking for duplicates\n",
    "cab.duplicated()"
   ]
  },
  {
   "cell_type": "markdown",
   "id": "53ca9544",
   "metadata": {},
   "source": [
    "## Customer Dataset"
   ]
  },
  {
   "cell_type": "code",
   "execution_count": 8,
   "id": "9888ceca",
   "metadata": {},
   "outputs": [
    {
     "data": {
      "text/html": [
       "<div>\n",
       "<style scoped>\n",
       "    .dataframe tbody tr th:only-of-type {\n",
       "        vertical-align: middle;\n",
       "    }\n",
       "\n",
       "    .dataframe tbody tr th {\n",
       "        vertical-align: top;\n",
       "    }\n",
       "\n",
       "    .dataframe thead th {\n",
       "        text-align: right;\n",
       "    }\n",
       "</style>\n",
       "<table border=\"1\" class=\"dataframe\">\n",
       "  <thead>\n",
       "    <tr style=\"text-align: right;\">\n",
       "      <th></th>\n",
       "      <th>Customer ID</th>\n",
       "      <th>Gender</th>\n",
       "      <th>Age</th>\n",
       "      <th>Income (USD/Month)</th>\n",
       "    </tr>\n",
       "  </thead>\n",
       "  <tbody>\n",
       "    <tr>\n",
       "      <th>0</th>\n",
       "      <td>29290</td>\n",
       "      <td>Male</td>\n",
       "      <td>28</td>\n",
       "      <td>10813</td>\n",
       "    </tr>\n",
       "    <tr>\n",
       "      <th>1</th>\n",
       "      <td>27703</td>\n",
       "      <td>Male</td>\n",
       "      <td>27</td>\n",
       "      <td>9237</td>\n",
       "    </tr>\n",
       "    <tr>\n",
       "      <th>2</th>\n",
       "      <td>28712</td>\n",
       "      <td>Male</td>\n",
       "      <td>53</td>\n",
       "      <td>11242</td>\n",
       "    </tr>\n",
       "    <tr>\n",
       "      <th>3</th>\n",
       "      <td>28020</td>\n",
       "      <td>Male</td>\n",
       "      <td>23</td>\n",
       "      <td>23327</td>\n",
       "    </tr>\n",
       "    <tr>\n",
       "      <th>4</th>\n",
       "      <td>27182</td>\n",
       "      <td>Male</td>\n",
       "      <td>33</td>\n",
       "      <td>8536</td>\n",
       "    </tr>\n",
       "  </tbody>\n",
       "</table>\n",
       "</div>"
      ],
      "text/plain": [
       "   Customer ID Gender  Age  Income (USD/Month)\n",
       "0        29290   Male   28               10813\n",
       "1        27703   Male   27                9237\n",
       "2        28712   Male   53               11242\n",
       "3        28020   Male   23               23327\n",
       "4        27182   Male   33                8536"
      ]
     },
     "execution_count": 8,
     "metadata": {},
     "output_type": "execute_result"
    }
   ],
   "source": [
    "customer.head(5)"
   ]
  },
  {
   "cell_type": "code",
   "execution_count": 9,
   "id": "cd7178ac",
   "metadata": {},
   "outputs": [
    {
     "data": {
      "text/plain": [
       "(49171, 4)"
      ]
     },
     "execution_count": 9,
     "metadata": {},
     "output_type": "execute_result"
    }
   ],
   "source": [
    "customer.shape"
   ]
  },
  {
   "cell_type": "code",
   "execution_count": 10,
   "id": "4e61953f",
   "metadata": {},
   "outputs": [
    {
     "data": {
      "text/plain": [
       "<bound method DataFrame.info of        Customer ID  Gender  Age  Income (USD/Month)\n",
       "0            29290    Male   28               10813\n",
       "1            27703    Male   27                9237\n",
       "2            28712    Male   53               11242\n",
       "3            28020    Male   23               23327\n",
       "4            27182    Male   33                8536\n",
       "...            ...     ...  ...                 ...\n",
       "49166        12490    Male   33               18713\n",
       "49167        14971    Male   30               15346\n",
       "49168        41414    Male   38                3960\n",
       "49169        41677    Male   23               19454\n",
       "49170        39761  Female   32               10128\n",
       "\n",
       "[49171 rows x 4 columns]>"
      ]
     },
     "execution_count": 10,
     "metadata": {},
     "output_type": "execute_result"
    }
   ],
   "source": [
    "#summary of customer dataset\n",
    "customer.info"
   ]
  },
  {
   "cell_type": "code",
   "execution_count": 11,
   "id": "1f4b96c5",
   "metadata": {},
   "outputs": [
    {
     "data": {
      "text/plain": [
       "Customer ID           0\n",
       "Gender                0\n",
       "Age                   0\n",
       "Income (USD/Month)    0\n",
       "dtype: int64"
      ]
     },
     "execution_count": 11,
     "metadata": {},
     "output_type": "execute_result"
    }
   ],
   "source": [
    "#checking null values\n",
    "customer.isna().sum()"
   ]
  },
  {
   "cell_type": "code",
   "execution_count": 12,
   "id": "8ab77e02",
   "metadata": {},
   "outputs": [
    {
     "data": {
      "text/plain": [
       "0        False\n",
       "1        False\n",
       "2        False\n",
       "3        False\n",
       "4        False\n",
       "         ...  \n",
       "49166    False\n",
       "49167    False\n",
       "49168    False\n",
       "49169    False\n",
       "49170    False\n",
       "Length: 49171, dtype: bool"
      ]
     },
     "execution_count": 12,
     "metadata": {},
     "output_type": "execute_result"
    }
   ],
   "source": [
    "#checking for duplicates\n",
    "customer.duplicated()"
   ]
  },
  {
   "cell_type": "markdown",
   "id": "949e4913",
   "metadata": {},
   "source": [
    "## City Dataset"
   ]
  },
  {
   "cell_type": "code",
   "execution_count": 13,
   "id": "8794a84d",
   "metadata": {},
   "outputs": [
    {
     "data": {
      "text/html": [
       "<div>\n",
       "<style scoped>\n",
       "    .dataframe tbody tr th:only-of-type {\n",
       "        vertical-align: middle;\n",
       "    }\n",
       "\n",
       "    .dataframe tbody tr th {\n",
       "        vertical-align: top;\n",
       "    }\n",
       "\n",
       "    .dataframe thead th {\n",
       "        text-align: right;\n",
       "    }\n",
       "</style>\n",
       "<table border=\"1\" class=\"dataframe\">\n",
       "  <thead>\n",
       "    <tr style=\"text-align: right;\">\n",
       "      <th></th>\n",
       "      <th>City</th>\n",
       "      <th>Population</th>\n",
       "      <th>Users</th>\n",
       "    </tr>\n",
       "  </thead>\n",
       "  <tbody>\n",
       "    <tr>\n",
       "      <th>0</th>\n",
       "      <td>NEW YORK NY</td>\n",
       "      <td>8,405,837</td>\n",
       "      <td>302,149</td>\n",
       "    </tr>\n",
       "    <tr>\n",
       "      <th>1</th>\n",
       "      <td>CHICAGO IL</td>\n",
       "      <td>1,955,130</td>\n",
       "      <td>164,468</td>\n",
       "    </tr>\n",
       "    <tr>\n",
       "      <th>2</th>\n",
       "      <td>LOS ANGELES CA</td>\n",
       "      <td>1,595,037</td>\n",
       "      <td>144,132</td>\n",
       "    </tr>\n",
       "    <tr>\n",
       "      <th>3</th>\n",
       "      <td>MIAMI FL</td>\n",
       "      <td>1,339,155</td>\n",
       "      <td>17,675</td>\n",
       "    </tr>\n",
       "    <tr>\n",
       "      <th>4</th>\n",
       "      <td>SILICON VALLEY</td>\n",
       "      <td>1,177,609</td>\n",
       "      <td>27,247</td>\n",
       "    </tr>\n",
       "  </tbody>\n",
       "</table>\n",
       "</div>"
      ],
      "text/plain": [
       "             City   Population      Users\n",
       "0     NEW YORK NY   8,405,837    302,149 \n",
       "1      CHICAGO IL   1,955,130    164,468 \n",
       "2  LOS ANGELES CA   1,595,037    144,132 \n",
       "3        MIAMI FL   1,339,155     17,675 \n",
       "4  SILICON VALLEY   1,177,609     27,247 "
      ]
     },
     "execution_count": 13,
     "metadata": {},
     "output_type": "execute_result"
    }
   ],
   "source": [
    "city.head(5)"
   ]
  },
  {
   "cell_type": "code",
   "execution_count": 14,
   "id": "f2a15c0c",
   "metadata": {},
   "outputs": [
    {
     "data": {
      "text/plain": [
       "(20, 3)"
      ]
     },
     "execution_count": 14,
     "metadata": {},
     "output_type": "execute_result"
    }
   ],
   "source": [
    "city.shape"
   ]
  },
  {
   "cell_type": "code",
   "execution_count": 15,
   "id": "f0e74ed3",
   "metadata": {},
   "outputs": [
    {
     "data": {
      "text/plain": [
       "<bound method DataFrame.info of                 City   Population      Users\n",
       "0        NEW YORK NY   8,405,837    302,149 \n",
       "1         CHICAGO IL   1,955,130    164,468 \n",
       "2     LOS ANGELES CA   1,595,037    144,132 \n",
       "3           MIAMI FL   1,339,155     17,675 \n",
       "4     SILICON VALLEY   1,177,609     27,247 \n",
       "5      ORANGE COUNTY   1,030,185     12,994 \n",
       "6       SAN DIEGO CA     959,307     69,995 \n",
       "7         PHOENIX AZ     943,999      6,133 \n",
       "8          DALLAS TX     942,908     22,157 \n",
       "9         ATLANTA GA     814,885     24,701 \n",
       "10         DENVER CO     754,233     12,421 \n",
       "11         AUSTIN TX     698,371     14,978 \n",
       "12        SEATTLE WA     671,238     25,063 \n",
       "13         TUCSON AZ     631,442      5,712 \n",
       "14  SAN FRANCISCO CA     629,591    213,609 \n",
       "15     SACRAMENTO CA     545,776      7,044 \n",
       "16     PITTSBURGH PA     542,085      3,643 \n",
       "17     WASHINGTON DC     418,859    127,001 \n",
       "18      NASHVILLE TN     327,225      9,270 \n",
       "19         BOSTON MA     248,968     80,021 >"
      ]
     },
     "execution_count": 15,
     "metadata": {},
     "output_type": "execute_result"
    }
   ],
   "source": [
    "#summary of city dataset\n",
    "city.info"
   ]
  },
  {
   "cell_type": "code",
   "execution_count": 16,
   "id": "79b135a4",
   "metadata": {},
   "outputs": [
    {
     "data": {
      "text/plain": [
       "City          0\n",
       "Population    0\n",
       "Users         0\n",
       "dtype: int64"
      ]
     },
     "execution_count": 16,
     "metadata": {},
     "output_type": "execute_result"
    }
   ],
   "source": [
    "#checking null values\n",
    "city.isna().sum()"
   ]
  },
  {
   "cell_type": "code",
   "execution_count": 17,
   "id": "c4bcb32d",
   "metadata": {},
   "outputs": [
    {
     "data": {
      "text/plain": [
       "0     False\n",
       "1     False\n",
       "2     False\n",
       "3     False\n",
       "4     False\n",
       "5     False\n",
       "6     False\n",
       "7     False\n",
       "8     False\n",
       "9     False\n",
       "10    False\n",
       "11    False\n",
       "12    False\n",
       "13    False\n",
       "14    False\n",
       "15    False\n",
       "16    False\n",
       "17    False\n",
       "18    False\n",
       "19    False\n",
       "dtype: bool"
      ]
     },
     "execution_count": 17,
     "metadata": {},
     "output_type": "execute_result"
    }
   ],
   "source": [
    "#checking for duplicates\n",
    "city.duplicated()"
   ]
  },
  {
   "cell_type": "markdown",
   "id": "a606d64b",
   "metadata": {},
   "source": [
    "## Transaction Dataset"
   ]
  },
  {
   "cell_type": "code",
   "execution_count": 18,
   "id": "5dc19ab7",
   "metadata": {},
   "outputs": [
    {
     "data": {
      "text/html": [
       "<div>\n",
       "<style scoped>\n",
       "    .dataframe tbody tr th:only-of-type {\n",
       "        vertical-align: middle;\n",
       "    }\n",
       "\n",
       "    .dataframe tbody tr th {\n",
       "        vertical-align: top;\n",
       "    }\n",
       "\n",
       "    .dataframe thead th {\n",
       "        text-align: right;\n",
       "    }\n",
       "</style>\n",
       "<table border=\"1\" class=\"dataframe\">\n",
       "  <thead>\n",
       "    <tr style=\"text-align: right;\">\n",
       "      <th></th>\n",
       "      <th>Transaction ID</th>\n",
       "      <th>Customer ID</th>\n",
       "      <th>Payment_Mode</th>\n",
       "    </tr>\n",
       "  </thead>\n",
       "  <tbody>\n",
       "    <tr>\n",
       "      <th>0</th>\n",
       "      <td>10000011</td>\n",
       "      <td>29290</td>\n",
       "      <td>Card</td>\n",
       "    </tr>\n",
       "    <tr>\n",
       "      <th>1</th>\n",
       "      <td>10000012</td>\n",
       "      <td>27703</td>\n",
       "      <td>Card</td>\n",
       "    </tr>\n",
       "    <tr>\n",
       "      <th>2</th>\n",
       "      <td>10000013</td>\n",
       "      <td>28712</td>\n",
       "      <td>Cash</td>\n",
       "    </tr>\n",
       "    <tr>\n",
       "      <th>3</th>\n",
       "      <td>10000014</td>\n",
       "      <td>28020</td>\n",
       "      <td>Cash</td>\n",
       "    </tr>\n",
       "    <tr>\n",
       "      <th>4</th>\n",
       "      <td>10000015</td>\n",
       "      <td>27182</td>\n",
       "      <td>Card</td>\n",
       "    </tr>\n",
       "  </tbody>\n",
       "</table>\n",
       "</div>"
      ],
      "text/plain": [
       "   Transaction ID  Customer ID Payment_Mode\n",
       "0        10000011        29290         Card\n",
       "1        10000012        27703         Card\n",
       "2        10000013        28712         Cash\n",
       "3        10000014        28020         Cash\n",
       "4        10000015        27182         Card"
      ]
     },
     "execution_count": 18,
     "metadata": {},
     "output_type": "execute_result"
    }
   ],
   "source": [
    "transaction.head(5)"
   ]
  },
  {
   "cell_type": "code",
   "execution_count": 19,
   "id": "e6994e42",
   "metadata": {},
   "outputs": [
    {
     "data": {
      "text/plain": [
       "(440098, 3)"
      ]
     },
     "execution_count": 19,
     "metadata": {},
     "output_type": "execute_result"
    }
   ],
   "source": [
    "transaction.shape"
   ]
  },
  {
   "cell_type": "code",
   "execution_count": 20,
   "id": "20fea4e6",
   "metadata": {},
   "outputs": [
    {
     "data": {
      "text/plain": [
       "<bound method DataFrame.info of         Transaction ID  Customer ID Payment_Mode\n",
       "0             10000011        29290         Card\n",
       "1             10000012        27703         Card\n",
       "2             10000013        28712         Cash\n",
       "3             10000014        28020         Cash\n",
       "4             10000015        27182         Card\n",
       "...                ...          ...          ...\n",
       "440093        10440104        53286         Cash\n",
       "440094        10440105        52265         Cash\n",
       "440095        10440106        52175         Card\n",
       "440096        10440107        52917         Card\n",
       "440097        10440108        51587         Card\n",
       "\n",
       "[440098 rows x 3 columns]>"
      ]
     },
     "execution_count": 20,
     "metadata": {},
     "output_type": "execute_result"
    }
   ],
   "source": [
    "# summary of transaction dataset\n",
    "transaction.info"
   ]
  },
  {
   "cell_type": "code",
   "execution_count": 21,
   "id": "85344e70",
   "metadata": {},
   "outputs": [
    {
     "data": {
      "text/plain": [
       "Transaction ID    0\n",
       "Customer ID       0\n",
       "Payment_Mode      0\n",
       "dtype: int64"
      ]
     },
     "execution_count": 21,
     "metadata": {},
     "output_type": "execute_result"
    }
   ],
   "source": [
    "#checking null values\n",
    "transaction.isna().sum()"
   ]
  },
  {
   "cell_type": "code",
   "execution_count": 22,
   "id": "3a8096f0",
   "metadata": {},
   "outputs": [
    {
     "data": {
      "text/plain": [
       "0         False\n",
       "1         False\n",
       "2         False\n",
       "3         False\n",
       "4         False\n",
       "          ...  \n",
       "440093    False\n",
       "440094    False\n",
       "440095    False\n",
       "440096    False\n",
       "440097    False\n",
       "Length: 440098, dtype: bool"
      ]
     },
     "execution_count": 22,
     "metadata": {},
     "output_type": "execute_result"
    }
   ],
   "source": [
    "# checking for duplicates\n",
    "transaction.duplicated()"
   ]
  },
  {
   "cell_type": "code",
   "execution_count": 23,
   "id": "15ce28c4",
   "metadata": {},
   "outputs": [],
   "source": [
    "city['Population'] = city['Population'].astype(str)"
   ]
  },
  {
   "cell_type": "code",
   "execution_count": 24,
   "id": "08cc5d3a",
   "metadata": {},
   "outputs": [],
   "source": [
    "city['Population'] = city['Population'].str.replace(',', '').astype(int)"
   ]
  },
  {
   "cell_type": "code",
   "execution_count": 25,
   "id": "f46936e8",
   "metadata": {},
   "outputs": [],
   "source": [
    "city['Users'] = city['Users'].str.replace(',', '').astype(int)"
   ]
  },
  {
   "cell_type": "code",
   "execution_count": 26,
   "id": "2b55fbdc",
   "metadata": {},
   "outputs": [
    {
     "data": {
      "text/html": [
       "<div>\n",
       "<style scoped>\n",
       "    .dataframe tbody tr th:only-of-type {\n",
       "        vertical-align: middle;\n",
       "    }\n",
       "\n",
       "    .dataframe tbody tr th {\n",
       "        vertical-align: top;\n",
       "    }\n",
       "\n",
       "    .dataframe thead th {\n",
       "        text-align: right;\n",
       "    }\n",
       "</style>\n",
       "<table border=\"1\" class=\"dataframe\">\n",
       "  <thead>\n",
       "    <tr style=\"text-align: right;\">\n",
       "      <th></th>\n",
       "      <th>City</th>\n",
       "      <th>Population</th>\n",
       "      <th>Users</th>\n",
       "    </tr>\n",
       "  </thead>\n",
       "  <tbody>\n",
       "    <tr>\n",
       "      <th>0</th>\n",
       "      <td>NEW YORK NY</td>\n",
       "      <td>8405837</td>\n",
       "      <td>302149</td>\n",
       "    </tr>\n",
       "    <tr>\n",
       "      <th>1</th>\n",
       "      <td>CHICAGO IL</td>\n",
       "      <td>1955130</td>\n",
       "      <td>164468</td>\n",
       "    </tr>\n",
       "    <tr>\n",
       "      <th>2</th>\n",
       "      <td>LOS ANGELES CA</td>\n",
       "      <td>1595037</td>\n",
       "      <td>144132</td>\n",
       "    </tr>\n",
       "    <tr>\n",
       "      <th>3</th>\n",
       "      <td>MIAMI FL</td>\n",
       "      <td>1339155</td>\n",
       "      <td>17675</td>\n",
       "    </tr>\n",
       "    <tr>\n",
       "      <th>4</th>\n",
       "      <td>SILICON VALLEY</td>\n",
       "      <td>1177609</td>\n",
       "      <td>27247</td>\n",
       "    </tr>\n",
       "    <tr>\n",
       "      <th>5</th>\n",
       "      <td>ORANGE COUNTY</td>\n",
       "      <td>1030185</td>\n",
       "      <td>12994</td>\n",
       "    </tr>\n",
       "    <tr>\n",
       "      <th>6</th>\n",
       "      <td>SAN DIEGO CA</td>\n",
       "      <td>959307</td>\n",
       "      <td>69995</td>\n",
       "    </tr>\n",
       "    <tr>\n",
       "      <th>7</th>\n",
       "      <td>PHOENIX AZ</td>\n",
       "      <td>943999</td>\n",
       "      <td>6133</td>\n",
       "    </tr>\n",
       "    <tr>\n",
       "      <th>8</th>\n",
       "      <td>DALLAS TX</td>\n",
       "      <td>942908</td>\n",
       "      <td>22157</td>\n",
       "    </tr>\n",
       "    <tr>\n",
       "      <th>9</th>\n",
       "      <td>ATLANTA GA</td>\n",
       "      <td>814885</td>\n",
       "      <td>24701</td>\n",
       "    </tr>\n",
       "    <tr>\n",
       "      <th>10</th>\n",
       "      <td>DENVER CO</td>\n",
       "      <td>754233</td>\n",
       "      <td>12421</td>\n",
       "    </tr>\n",
       "    <tr>\n",
       "      <th>11</th>\n",
       "      <td>AUSTIN TX</td>\n",
       "      <td>698371</td>\n",
       "      <td>14978</td>\n",
       "    </tr>\n",
       "    <tr>\n",
       "      <th>12</th>\n",
       "      <td>SEATTLE WA</td>\n",
       "      <td>671238</td>\n",
       "      <td>25063</td>\n",
       "    </tr>\n",
       "    <tr>\n",
       "      <th>13</th>\n",
       "      <td>TUCSON AZ</td>\n",
       "      <td>631442</td>\n",
       "      <td>5712</td>\n",
       "    </tr>\n",
       "    <tr>\n",
       "      <th>14</th>\n",
       "      <td>SAN FRANCISCO CA</td>\n",
       "      <td>629591</td>\n",
       "      <td>213609</td>\n",
       "    </tr>\n",
       "    <tr>\n",
       "      <th>15</th>\n",
       "      <td>SACRAMENTO CA</td>\n",
       "      <td>545776</td>\n",
       "      <td>7044</td>\n",
       "    </tr>\n",
       "    <tr>\n",
       "      <th>16</th>\n",
       "      <td>PITTSBURGH PA</td>\n",
       "      <td>542085</td>\n",
       "      <td>3643</td>\n",
       "    </tr>\n",
       "    <tr>\n",
       "      <th>17</th>\n",
       "      <td>WASHINGTON DC</td>\n",
       "      <td>418859</td>\n",
       "      <td>127001</td>\n",
       "    </tr>\n",
       "    <tr>\n",
       "      <th>18</th>\n",
       "      <td>NASHVILLE TN</td>\n",
       "      <td>327225</td>\n",
       "      <td>9270</td>\n",
       "    </tr>\n",
       "    <tr>\n",
       "      <th>19</th>\n",
       "      <td>BOSTON MA</td>\n",
       "      <td>248968</td>\n",
       "      <td>80021</td>\n",
       "    </tr>\n",
       "  </tbody>\n",
       "</table>\n",
       "</div>"
      ],
      "text/plain": [
       "                City  Population   Users\n",
       "0        NEW YORK NY     8405837  302149\n",
       "1         CHICAGO IL     1955130  164468\n",
       "2     LOS ANGELES CA     1595037  144132\n",
       "3           MIAMI FL     1339155   17675\n",
       "4     SILICON VALLEY     1177609   27247\n",
       "5      ORANGE COUNTY     1030185   12994\n",
       "6       SAN DIEGO CA      959307   69995\n",
       "7         PHOENIX AZ      943999    6133\n",
       "8          DALLAS TX      942908   22157\n",
       "9         ATLANTA GA      814885   24701\n",
       "10         DENVER CO      754233   12421\n",
       "11         AUSTIN TX      698371   14978\n",
       "12        SEATTLE WA      671238   25063\n",
       "13         TUCSON AZ      631442    5712\n",
       "14  SAN FRANCISCO CA      629591  213609\n",
       "15     SACRAMENTO CA      545776    7044\n",
       "16     PITTSBURGH PA      542085    3643\n",
       "17     WASHINGTON DC      418859  127001\n",
       "18      NASHVILLE TN      327225    9270\n",
       "19         BOSTON MA      248968   80021"
      ]
     },
     "execution_count": 26,
     "metadata": {},
     "output_type": "execute_result"
    }
   ],
   "source": [
    "city"
   ]
  },
  {
   "cell_type": "markdown",
   "id": "bf384c2d",
   "metadata": {},
   "source": [
    "## çhecking for outliers"
   ]
  },
  {
   "cell_type": "code",
   "execution_count": 27,
   "id": "cd39e686",
   "metadata": {},
   "outputs": [
    {
     "data": {
      "text/plain": [
       "<AxesSubplot:>"
      ]
     },
     "execution_count": 27,
     "metadata": {},
     "output_type": "execute_result"
    },
    {
     "data": {
      "image/png": "[encoded data removed]",
      "text/plain": [
       "<Figure size 432x288 with 1 Axes>"
      ]
     },
     "metadata": {
      "needs_background": "light"
     },
     "output_type": "display_data"
    }
   ],
   "source": [
    "cab.boxplot()"
   ]
  },
  {
   "cell_type": "code",
   "execution_count": 28,
   "id": "a044fdac",
   "metadata": {},
   "outputs": [
    {
     "data": {
      "text/plain": [
       "<AxesSubplot:>"
      ]
     },
     "execution_count": 28,
     "metadata": {},
     "output_type": "execute_result"
    },
    {
     "data": {
      "image/png": "[encoded data removed]",
      "text/plain": [
       "<Figure size 432x288 with 1 Axes>"
      ]
     },
     "metadata": {
      "needs_background": "light"
     },
     "output_type": "display_data"
    }
   ],
   "source": [
    "customer.boxplot()"
   ]
  },
  {
   "cell_type": "code",
   "execution_count": 29,
   "id": "442bbdb0",
   "metadata": {},
   "outputs": [
    {
     "data": {
      "text/plain": [
       "<AxesSubplot:>"
      ]
     },
     "execution_count": 29,
     "metadata": {},
     "output_type": "execute_result"
    },
    {
     "data": {
      "image/png": "[encoded data removed]",
      "text/plain": [
       "<Figure size 432x288 with 1 Axes>"
      ]
     },
     "metadata": {
      "needs_background": "light"
     },
     "output_type": "display_data"
    }
   ],
   "source": [
    "transaction.boxplot()"
   ]
  },
  {
   "cell_type": "code",
   "execution_count": 30,
   "id": "da3e24dd",
   "metadata": {},
   "outputs": [
    {
     "data": {
      "text/plain": [
       "<AxesSubplot:>"
      ]
     },
     "execution_count": 30,
     "metadata": {},
     "output_type": "execute_result"
    },
    {
     "data": {
      "image/png": "[encoded data removed]",
      "text/plain": [
       "<Figure size 432x288 with 1 Axes>"
      ]
     },
     "metadata": {
      "needs_background": "light"
     },
     "output_type": "display_data"
    }
   ],
   "source": [
    "city.boxplot()"
   ]
  },
  {
   "cell_type": "markdown",
   "id": "a9bfb5a1",
   "metadata": {},
   "source": [
    "# Merging all datasets"
   ]
  },
  {
   "cell_type": "markdown",
   "id": "ca812194",
   "metadata": {},
   "source": [
    "## Merging Customer and transaction datasets based on 'Customer ID' column"
   ]
  },
  {
   "cell_type": "code",
   "execution_count": 31,
   "id": "423ff4f6",
   "metadata": {},
   "outputs": [
    {
     "data": {
      "text/html": [
       "<div>\n",
       "<style scoped>\n",
       "    .dataframe tbody tr th:only-of-type {\n",
       "        vertical-align: middle;\n",
       "    }\n",
       "\n",
       "    .dataframe tbody tr th {\n",
       "        vertical-align: top;\n",
       "    }\n",
       "\n",
       "    .dataframe thead th {\n",
       "        text-align: right;\n",
       "    }\n",
       "</style>\n",
       "<table border=\"1\" class=\"dataframe\">\n",
       "  <thead>\n",
       "    <tr style=\"text-align: right;\">\n",
       "      <th></th>\n",
       "      <th>Customer ID</th>\n",
       "      <th>Gender</th>\n",
       "      <th>Age</th>\n",
       "      <th>Income (USD/Month)</th>\n",
       "      <th>Transaction ID</th>\n",
       "      <th>Payment_Mode</th>\n",
       "    </tr>\n",
       "  </thead>\n",
       "  <tbody>\n",
       "    <tr>\n",
       "      <th>0</th>\n",
       "      <td>29290</td>\n",
       "      <td>Male</td>\n",
       "      <td>28</td>\n",
       "      <td>10813</td>\n",
       "      <td>10000011</td>\n",
       "      <td>Card</td>\n",
       "    </tr>\n",
       "    <tr>\n",
       "      <th>1</th>\n",
       "      <td>29290</td>\n",
       "      <td>Male</td>\n",
       "      <td>28</td>\n",
       "      <td>10813</td>\n",
       "      <td>10351127</td>\n",
       "      <td>Cash</td>\n",
       "    </tr>\n",
       "    <tr>\n",
       "      <th>2</th>\n",
       "      <td>29290</td>\n",
       "      <td>Male</td>\n",
       "      <td>28</td>\n",
       "      <td>10813</td>\n",
       "      <td>10412921</td>\n",
       "      <td>Card</td>\n",
       "    </tr>\n",
       "    <tr>\n",
       "      <th>3</th>\n",
       "      <td>27703</td>\n",
       "      <td>Male</td>\n",
       "      <td>27</td>\n",
       "      <td>9237</td>\n",
       "      <td>10000012</td>\n",
       "      <td>Card</td>\n",
       "    </tr>\n",
       "    <tr>\n",
       "      <th>4</th>\n",
       "      <td>27703</td>\n",
       "      <td>Male</td>\n",
       "      <td>27</td>\n",
       "      <td>9237</td>\n",
       "      <td>10320494</td>\n",
       "      <td>Card</td>\n",
       "    </tr>\n",
       "    <tr>\n",
       "      <th>...</th>\n",
       "      <td>...</td>\n",
       "      <td>...</td>\n",
       "      <td>...</td>\n",
       "      <td>...</td>\n",
       "      <td>...</td>\n",
       "      <td>...</td>\n",
       "    </tr>\n",
       "    <tr>\n",
       "      <th>440093</th>\n",
       "      <td>12490</td>\n",
       "      <td>Male</td>\n",
       "      <td>33</td>\n",
       "      <td>18713</td>\n",
       "      <td>10439799</td>\n",
       "      <td>Cash</td>\n",
       "    </tr>\n",
       "    <tr>\n",
       "      <th>440094</th>\n",
       "      <td>14971</td>\n",
       "      <td>Male</td>\n",
       "      <td>30</td>\n",
       "      <td>15346</td>\n",
       "      <td>10439820</td>\n",
       "      <td>Card</td>\n",
       "    </tr>\n",
       "    <tr>\n",
       "      <th>440095</th>\n",
       "      <td>41414</td>\n",
       "      <td>Male</td>\n",
       "      <td>38</td>\n",
       "      <td>3960</td>\n",
       "      <td>10439838</td>\n",
       "      <td>Card</td>\n",
       "    </tr>\n",
       "    <tr>\n",
       "      <th>440096</th>\n",
       "      <td>41677</td>\n",
       "      <td>Male</td>\n",
       "      <td>23</td>\n",
       "      <td>19454</td>\n",
       "      <td>10439840</td>\n",
       "      <td>Cash</td>\n",
       "    </tr>\n",
       "    <tr>\n",
       "      <th>440097</th>\n",
       "      <td>39761</td>\n",
       "      <td>Female</td>\n",
       "      <td>32</td>\n",
       "      <td>10128</td>\n",
       "      <td>10439846</td>\n",
       "      <td>Card</td>\n",
       "    </tr>\n",
       "  </tbody>\n",
       "</table>\n",
       "<p>440098 rows × 6 columns</p>\n",
       "</div>"
      ],
      "text/plain": [
       "        Customer ID  Gender  Age  Income (USD/Month)  Transaction ID  \\\n",
       "0             29290    Male   28               10813        10000011   \n",
       "1             29290    Male   28               10813        10351127   \n",
       "2             29290    Male   28               10813        10412921   \n",
       "3             27703    Male   27                9237        10000012   \n",
       "4             27703    Male   27                9237        10320494   \n",
       "...             ...     ...  ...                 ...             ...   \n",
       "440093        12490    Male   33               18713        10439799   \n",
       "440094        14971    Male   30               15346        10439820   \n",
       "440095        41414    Male   38                3960        10439838   \n",
       "440096        41677    Male   23               19454        10439840   \n",
       "440097        39761  Female   32               10128        10439846   \n",
       "\n",
       "       Payment_Mode  \n",
       "0              Card  \n",
       "1              Cash  \n",
       "2              Card  \n",
       "3              Card  \n",
       "4              Card  \n",
       "...             ...  \n",
       "440093         Cash  \n",
       "440094         Card  \n",
       "440095         Card  \n",
       "440096         Cash  \n",
       "440097         Card  \n",
       "\n",
       "[440098 rows x 6 columns]"
      ]
     },
     "execution_count": 31,
     "metadata": {},
     "output_type": "execute_result"
    }
   ],
   "source": [
    "df1 = pd.merge(customer,transaction,on='Customer ID')\n",
    "df1"
   ]
  },
  {
   "cell_type": "markdown",
   "id": "265fc9d7",
   "metadata": {},
   "source": [
    "## Merging Cab and City datasets based on 'City' column"
   ]
  },
  {
   "cell_type": "code",
   "execution_count": 32,
   "id": "c25b2737",
   "metadata": {},
   "outputs": [
    {
     "data": {
      "text/html": [
       "<div>\n",
       "<style scoped>\n",
       "    .dataframe tbody tr th:only-of-type {\n",
       "        vertical-align: middle;\n",
       "    }\n",
       "\n",
       "    .dataframe tbody tr th {\n",
       "        vertical-align: top;\n",
       "    }\n",
       "\n",
       "    .dataframe thead th {\n",
       "        text-align: right;\n",
       "    }\n",
       "</style>\n",
       "<table border=\"1\" class=\"dataframe\">\n",
       "  <thead>\n",
       "    <tr style=\"text-align: right;\">\n",
       "      <th></th>\n",
       "      <th>Transaction ID</th>\n",
       "      <th>Date of Travel</th>\n",
       "      <th>Company</th>\n",
       "      <th>City</th>\n",
       "      <th>KM Travelled</th>\n",
       "      <th>Price Charged</th>\n",
       "      <th>Cost of Trip</th>\n",
       "      <th>Population</th>\n",
       "      <th>Users</th>\n",
       "    </tr>\n",
       "  </thead>\n",
       "  <tbody>\n",
       "    <tr>\n",
       "      <th>0</th>\n",
       "      <td>10000011</td>\n",
       "      <td>08/01/16</td>\n",
       "      <td>Pink Cab</td>\n",
       "      <td>ATLANTA GA</td>\n",
       "      <td>30.45</td>\n",
       "      <td>370.95</td>\n",
       "      <td>313.6350</td>\n",
       "      <td>814885</td>\n",
       "      <td>24701</td>\n",
       "    </tr>\n",
       "    <tr>\n",
       "      <th>1</th>\n",
       "      <td>10000012</td>\n",
       "      <td>06/01/16</td>\n",
       "      <td>Pink Cab</td>\n",
       "      <td>ATLANTA GA</td>\n",
       "      <td>28.62</td>\n",
       "      <td>358.52</td>\n",
       "      <td>334.8540</td>\n",
       "      <td>814885</td>\n",
       "      <td>24701</td>\n",
       "    </tr>\n",
       "    <tr>\n",
       "      <th>2</th>\n",
       "      <td>10000013</td>\n",
       "      <td>02/01/16</td>\n",
       "      <td>Pink Cab</td>\n",
       "      <td>ATLANTA GA</td>\n",
       "      <td>9.04</td>\n",
       "      <td>125.20</td>\n",
       "      <td>97.6320</td>\n",
       "      <td>814885</td>\n",
       "      <td>24701</td>\n",
       "    </tr>\n",
       "    <tr>\n",
       "      <th>3</th>\n",
       "      <td>10000014</td>\n",
       "      <td>07/01/16</td>\n",
       "      <td>Pink Cab</td>\n",
       "      <td>ATLANTA GA</td>\n",
       "      <td>33.17</td>\n",
       "      <td>377.40</td>\n",
       "      <td>351.6020</td>\n",
       "      <td>814885</td>\n",
       "      <td>24701</td>\n",
       "    </tr>\n",
       "    <tr>\n",
       "      <th>4</th>\n",
       "      <td>10000015</td>\n",
       "      <td>03/01/16</td>\n",
       "      <td>Pink Cab</td>\n",
       "      <td>ATLANTA GA</td>\n",
       "      <td>8.73</td>\n",
       "      <td>114.62</td>\n",
       "      <td>97.7760</td>\n",
       "      <td>814885</td>\n",
       "      <td>24701</td>\n",
       "    </tr>\n",
       "    <tr>\n",
       "      <th>...</th>\n",
       "      <td>...</td>\n",
       "      <td>...</td>\n",
       "      <td>...</td>\n",
       "      <td>...</td>\n",
       "      <td>...</td>\n",
       "      <td>...</td>\n",
       "      <td>...</td>\n",
       "      <td>...</td>\n",
       "      <td>...</td>\n",
       "    </tr>\n",
       "    <tr>\n",
       "      <th>359387</th>\n",
       "      <td>10440101</td>\n",
       "      <td>08/01/18</td>\n",
       "      <td>Yellow Cab</td>\n",
       "      <td>WASHINGTON DC</td>\n",
       "      <td>4.80</td>\n",
       "      <td>69.24</td>\n",
       "      <td>63.3600</td>\n",
       "      <td>418859</td>\n",
       "      <td>127001</td>\n",
       "    </tr>\n",
       "    <tr>\n",
       "      <th>359388</th>\n",
       "      <td>10440104</td>\n",
       "      <td>04/01/18</td>\n",
       "      <td>Yellow Cab</td>\n",
       "      <td>WASHINGTON DC</td>\n",
       "      <td>8.40</td>\n",
       "      <td>113.75</td>\n",
       "      <td>106.8480</td>\n",
       "      <td>418859</td>\n",
       "      <td>127001</td>\n",
       "    </tr>\n",
       "    <tr>\n",
       "      <th>359389</th>\n",
       "      <td>10440105</td>\n",
       "      <td>05/01/18</td>\n",
       "      <td>Yellow Cab</td>\n",
       "      <td>WASHINGTON DC</td>\n",
       "      <td>27.75</td>\n",
       "      <td>437.07</td>\n",
       "      <td>349.6500</td>\n",
       "      <td>418859</td>\n",
       "      <td>127001</td>\n",
       "    </tr>\n",
       "    <tr>\n",
       "      <th>359390</th>\n",
       "      <td>10440106</td>\n",
       "      <td>05/01/18</td>\n",
       "      <td>Yellow Cab</td>\n",
       "      <td>WASHINGTON DC</td>\n",
       "      <td>8.80</td>\n",
       "      <td>146.19</td>\n",
       "      <td>114.0480</td>\n",
       "      <td>418859</td>\n",
       "      <td>127001</td>\n",
       "    </tr>\n",
       "    <tr>\n",
       "      <th>359391</th>\n",
       "      <td>10440107</td>\n",
       "      <td>02/01/18</td>\n",
       "      <td>Yellow Cab</td>\n",
       "      <td>WASHINGTON DC</td>\n",
       "      <td>12.76</td>\n",
       "      <td>191.58</td>\n",
       "      <td>177.6192</td>\n",
       "      <td>418859</td>\n",
       "      <td>127001</td>\n",
       "    </tr>\n",
       "  </tbody>\n",
       "</table>\n",
       "<p>359392 rows × 9 columns</p>\n",
       "</div>"
      ],
      "text/plain": [
       "        Transaction ID Date of Travel     Company           City  \\\n",
       "0             10000011       08/01/16    Pink Cab     ATLANTA GA   \n",
       "1             10000012       06/01/16    Pink Cab     ATLANTA GA   \n",
       "2             10000013       02/01/16    Pink Cab     ATLANTA GA   \n",
       "3             10000014       07/01/16    Pink Cab     ATLANTA GA   \n",
       "4             10000015       03/01/16    Pink Cab     ATLANTA GA   \n",
       "...                ...            ...         ...            ...   \n",
       "359387        10440101       08/01/18  Yellow Cab  WASHINGTON DC   \n",
       "359388        10440104       04/01/18  Yellow Cab  WASHINGTON DC   \n",
       "359389        10440105       05/01/18  Yellow Cab  WASHINGTON DC   \n",
       "359390        10440106       05/01/18  Yellow Cab  WASHINGTON DC   \n",
       "359391        10440107       02/01/18  Yellow Cab  WASHINGTON DC   \n",
       "\n",
       "        KM Travelled  Price Charged  Cost of Trip  Population   Users  \n",
       "0              30.45         370.95      313.6350      814885   24701  \n",
       "1              28.62         358.52      334.8540      814885   24701  \n",
       "2               9.04         125.20       97.6320      814885   24701  \n",
       "3              33.17         377.40      351.6020      814885   24701  \n",
       "4               8.73         114.62       97.7760      814885   24701  \n",
       "...              ...            ...           ...         ...     ...  \n",
       "359387          4.80          69.24       63.3600      418859  127001  \n",
       "359388          8.40         113.75      106.8480      418859  127001  \n",
       "359389         27.75         437.07      349.6500      418859  127001  \n",
       "359390          8.80         146.19      114.0480      418859  127001  \n",
       "359391         12.76         191.58      177.6192      418859  127001  \n",
       "\n",
       "[359392 rows x 9 columns]"
      ]
     },
     "execution_count": 32,
     "metadata": {},
     "output_type": "execute_result"
    }
   ],
   "source": [
    "df2 = pd.merge(cab,city,on='City')\n",
    "df2"
   ]
  },
  {
   "cell_type": "code",
   "execution_count": 33,
   "id": "f5a6c09a",
   "metadata": {},
   "outputs": [
    {
     "data": {
      "text/plain": [
       "Customer ID           0\n",
       "Gender                0\n",
       "Age                   0\n",
       "Income (USD/Month)    0\n",
       "Transaction ID        0\n",
       "Payment_Mode          0\n",
       "dtype: int64"
      ]
     },
     "execution_count": 33,
     "metadata": {},
     "output_type": "execute_result"
    }
   ],
   "source": [
    "df1.isna().sum()"
   ]
  },
  {
   "cell_type": "code",
   "execution_count": 34,
   "id": "d5f17e1a",
   "metadata": {},
   "outputs": [
    {
     "data": {
      "text/plain": [
       "Transaction ID    0\n",
       "Date of Travel    0\n",
       "Company           0\n",
       "City              0\n",
       "KM Travelled      0\n",
       "Price Charged     0\n",
       "Cost of Trip      0\n",
       "Population        0\n",
       "Users             0\n",
       "dtype: int64"
      ]
     },
     "execution_count": 34,
     "metadata": {},
     "output_type": "execute_result"
    }
   ],
   "source": [
    "df2.isna().sum()"
   ]
  },
  {
   "cell_type": "markdown",
   "id": "711479c9",
   "metadata": {},
   "source": [
    "## Merging df1 and df2 datasets based on 'Transaction ID' column"
   ]
  },
  {
   "cell_type": "markdown",
   "id": "59093c98",
   "metadata": {},
   "source": [
    "## Master Dataset"
   ]
  },
  {
   "cell_type": "code",
   "execution_count": 35,
   "id": "79e51505",
   "metadata": {},
   "outputs": [
    {
     "data": {
      "text/html": [
       "<div>\n",
       "<style scoped>\n",
       "    .dataframe tbody tr th:only-of-type {\n",
       "        vertical-align: middle;\n",
       "    }\n",
       "\n",
       "    .dataframe tbody tr th {\n",
       "        vertical-align: top;\n",
       "    }\n",
       "\n",
       "    .dataframe thead th {\n",
       "        text-align: right;\n",
       "    }\n",
       "</style>\n",
       "<table border=\"1\" class=\"dataframe\">\n",
       "  <thead>\n",
       "    <tr style=\"text-align: right;\">\n",
       "      <th></th>\n",
       "      <th>Customer ID</th>\n",
       "      <th>Gender</th>\n",
       "      <th>Age</th>\n",
       "      <th>Income (USD/Month)</th>\n",
       "      <th>Transaction ID</th>\n",
       "      <th>Payment_Mode</th>\n",
       "      <th>Date of Travel</th>\n",
       "      <th>Company</th>\n",
       "      <th>City</th>\n",
       "      <th>KM Travelled</th>\n",
       "      <th>Price Charged</th>\n",
       "      <th>Cost of Trip</th>\n",
       "      <th>Population</th>\n",
       "      <th>Users</th>\n",
       "    </tr>\n",
       "  </thead>\n",
       "  <tbody>\n",
       "    <tr>\n",
       "      <th>0</th>\n",
       "      <td>29290</td>\n",
       "      <td>Male</td>\n",
       "      <td>28</td>\n",
       "      <td>10813</td>\n",
       "      <td>10000011</td>\n",
       "      <td>Card</td>\n",
       "      <td>08/01/16</td>\n",
       "      <td>Pink Cab</td>\n",
       "      <td>ATLANTA GA</td>\n",
       "      <td>30.45</td>\n",
       "      <td>370.95</td>\n",
       "      <td>313.6350</td>\n",
       "      <td>814885</td>\n",
       "      <td>24701</td>\n",
       "    </tr>\n",
       "    <tr>\n",
       "      <th>1</th>\n",
       "      <td>29290</td>\n",
       "      <td>Male</td>\n",
       "      <td>28</td>\n",
       "      <td>10813</td>\n",
       "      <td>10351127</td>\n",
       "      <td>Cash</td>\n",
       "      <td>21/07/18</td>\n",
       "      <td>Yellow Cab</td>\n",
       "      <td>ATLANTA GA</td>\n",
       "      <td>26.19</td>\n",
       "      <td>598.70</td>\n",
       "      <td>317.4228</td>\n",
       "      <td>814885</td>\n",
       "      <td>24701</td>\n",
       "    </tr>\n",
       "    <tr>\n",
       "      <th>2</th>\n",
       "      <td>29290</td>\n",
       "      <td>Male</td>\n",
       "      <td>28</td>\n",
       "      <td>10813</td>\n",
       "      <td>10412921</td>\n",
       "      <td>Card</td>\n",
       "      <td>23/11/18</td>\n",
       "      <td>Yellow Cab</td>\n",
       "      <td>ATLANTA GA</td>\n",
       "      <td>42.55</td>\n",
       "      <td>792.05</td>\n",
       "      <td>597.4020</td>\n",
       "      <td>814885</td>\n",
       "      <td>24701</td>\n",
       "    </tr>\n",
       "    <tr>\n",
       "      <th>3</th>\n",
       "      <td>27703</td>\n",
       "      <td>Male</td>\n",
       "      <td>27</td>\n",
       "      <td>9237</td>\n",
       "      <td>10000012</td>\n",
       "      <td>Card</td>\n",
       "      <td>06/01/16</td>\n",
       "      <td>Pink Cab</td>\n",
       "      <td>ATLANTA GA</td>\n",
       "      <td>28.62</td>\n",
       "      <td>358.52</td>\n",
       "      <td>334.8540</td>\n",
       "      <td>814885</td>\n",
       "      <td>24701</td>\n",
       "    </tr>\n",
       "    <tr>\n",
       "      <th>4</th>\n",
       "      <td>27703</td>\n",
       "      <td>Male</td>\n",
       "      <td>27</td>\n",
       "      <td>9237</td>\n",
       "      <td>10320494</td>\n",
       "      <td>Card</td>\n",
       "      <td>21/04/18</td>\n",
       "      <td>Yellow Cab</td>\n",
       "      <td>ATLANTA GA</td>\n",
       "      <td>36.38</td>\n",
       "      <td>721.10</td>\n",
       "      <td>467.1192</td>\n",
       "      <td>814885</td>\n",
       "      <td>24701</td>\n",
       "    </tr>\n",
       "    <tr>\n",
       "      <th>...</th>\n",
       "      <td>...</td>\n",
       "      <td>...</td>\n",
       "      <td>...</td>\n",
       "      <td>...</td>\n",
       "      <td>...</td>\n",
       "      <td>...</td>\n",
       "      <td>...</td>\n",
       "      <td>...</td>\n",
       "      <td>...</td>\n",
       "      <td>...</td>\n",
       "      <td>...</td>\n",
       "      <td>...</td>\n",
       "      <td>...</td>\n",
       "      <td>...</td>\n",
       "    </tr>\n",
       "    <tr>\n",
       "      <th>359387</th>\n",
       "      <td>38520</td>\n",
       "      <td>Female</td>\n",
       "      <td>42</td>\n",
       "      <td>19417</td>\n",
       "      <td>10439790</td>\n",
       "      <td>Card</td>\n",
       "      <td>07/01/18</td>\n",
       "      <td>Yellow Cab</td>\n",
       "      <td>SEATTLE WA</td>\n",
       "      <td>16.66</td>\n",
       "      <td>261.18</td>\n",
       "      <td>213.9144</td>\n",
       "      <td>671238</td>\n",
       "      <td>25063</td>\n",
       "    </tr>\n",
       "    <tr>\n",
       "      <th>359388</th>\n",
       "      <td>12490</td>\n",
       "      <td>Male</td>\n",
       "      <td>33</td>\n",
       "      <td>18713</td>\n",
       "      <td>10439799</td>\n",
       "      <td>Cash</td>\n",
       "      <td>03/01/18</td>\n",
       "      <td>Yellow Cab</td>\n",
       "      <td>SILICON VALLEY</td>\n",
       "      <td>13.72</td>\n",
       "      <td>277.97</td>\n",
       "      <td>172.8720</td>\n",
       "      <td>1177609</td>\n",
       "      <td>27247</td>\n",
       "    </tr>\n",
       "    <tr>\n",
       "      <th>359389</th>\n",
       "      <td>41414</td>\n",
       "      <td>Male</td>\n",
       "      <td>38</td>\n",
       "      <td>3960</td>\n",
       "      <td>10439838</td>\n",
       "      <td>Card</td>\n",
       "      <td>04/01/18</td>\n",
       "      <td>Yellow Cab</td>\n",
       "      <td>TUCSON AZ</td>\n",
       "      <td>19.00</td>\n",
       "      <td>303.77</td>\n",
       "      <td>232.5600</td>\n",
       "      <td>631442</td>\n",
       "      <td>5712</td>\n",
       "    </tr>\n",
       "    <tr>\n",
       "      <th>359390</th>\n",
       "      <td>41677</td>\n",
       "      <td>Male</td>\n",
       "      <td>23</td>\n",
       "      <td>19454</td>\n",
       "      <td>10439840</td>\n",
       "      <td>Cash</td>\n",
       "      <td>06/01/18</td>\n",
       "      <td>Yellow Cab</td>\n",
       "      <td>TUCSON AZ</td>\n",
       "      <td>5.60</td>\n",
       "      <td>92.42</td>\n",
       "      <td>70.5600</td>\n",
       "      <td>631442</td>\n",
       "      <td>5712</td>\n",
       "    </tr>\n",
       "    <tr>\n",
       "      <th>359391</th>\n",
       "      <td>39761</td>\n",
       "      <td>Female</td>\n",
       "      <td>32</td>\n",
       "      <td>10128</td>\n",
       "      <td>10439846</td>\n",
       "      <td>Card</td>\n",
       "      <td>04/01/18</td>\n",
       "      <td>Yellow Cab</td>\n",
       "      <td>TUCSON AZ</td>\n",
       "      <td>13.30</td>\n",
       "      <td>244.65</td>\n",
       "      <td>180.3480</td>\n",
       "      <td>631442</td>\n",
       "      <td>5712</td>\n",
       "    </tr>\n",
       "  </tbody>\n",
       "</table>\n",
       "<p>359392 rows × 14 columns</p>\n",
       "</div>"
      ],
      "text/plain": [
       "        Customer ID  Gender  Age  Income (USD/Month)  Transaction ID  \\\n",
       "0             29290    Male   28               10813        10000011   \n",
       "1             29290    Male   28               10813        10351127   \n",
       "2             29290    Male   28               10813        10412921   \n",
       "3             27703    Male   27                9237        10000012   \n",
       "4             27703    Male   27                9237        10320494   \n",
       "...             ...     ...  ...                 ...             ...   \n",
       "359387        38520  Female   42               19417        10439790   \n",
       "359388        12490    Male   33               18713        10439799   \n",
       "359389        41414    Male   38                3960        10439838   \n",
       "359390        41677    Male   23               19454        10439840   \n",
       "359391        39761  Female   32               10128        10439846   \n",
       "\n",
       "       Payment_Mode Date of Travel     Company            City  KM Travelled  \\\n",
       "0              Card       08/01/16    Pink Cab      ATLANTA GA         30.45   \n",
       "1              Cash       21/07/18  Yellow Cab      ATLANTA GA         26.19   \n",
       "2              Card       23/11/18  Yellow Cab      ATLANTA GA         42.55   \n",
       "3              Card       06/01/16    Pink Cab      ATLANTA GA         28.62   \n",
       "4              Card       21/04/18  Yellow Cab      ATLANTA GA         36.38   \n",
       "...             ...            ...         ...             ...           ...   \n",
       "359387         Card       07/01/18  Yellow Cab      SEATTLE WA         16.66   \n",
       "359388         Cash       03/01/18  Yellow Cab  SILICON VALLEY         13.72   \n",
       "359389         Card       04/01/18  Yellow Cab       TUCSON AZ         19.00   \n",
       "359390         Cash       06/01/18  Yellow Cab       TUCSON AZ          5.60   \n",
       "359391         Card       04/01/18  Yellow Cab       TUCSON AZ         13.30   \n",
       "\n",
       "        Price Charged  Cost of Trip  Population  Users  \n",
       "0              370.95      313.6350      814885  24701  \n",
       "1              598.70      317.4228      814885  24701  \n",
       "2              792.05      597.4020      814885  24701  \n",
       "3              358.52      334.8540      814885  24701  \n",
       "4              721.10      467.1192      814885  24701  \n",
       "...               ...           ...         ...    ...  \n",
       "359387         261.18      213.9144      671238  25063  \n",
       "359388         277.97      172.8720     1177609  27247  \n",
       "359389         303.77      232.5600      631442   5712  \n",
       "359390          92.42       70.5600      631442   5712  \n",
       "359391         244.65      180.3480      631442   5712  \n",
       "\n",
       "[359392 rows x 14 columns]"
      ]
     },
     "execution_count": 35,
     "metadata": {},
     "output_type": "execute_result"
    }
   ],
   "source": [
    "df = pd.merge(df1,df2,on='Transaction ID')\n",
    "df"
   ]
  },
  {
   "cell_type": "code",
   "execution_count": 36,
   "id": "4e373fe5",
   "metadata": {},
   "outputs": [
    {
     "data": {
      "text/plain": [
       "(359392, 14)"
      ]
     },
     "execution_count": 36,
     "metadata": {},
     "output_type": "execute_result"
    }
   ],
   "source": [
    "df.shape"
   ]
  },
  {
   "cell_type": "code",
   "execution_count": 37,
   "id": "7a34c947",
   "metadata": {},
   "outputs": [
    {
     "data": {
      "text/plain": [
       "<bound method DataFrame.info of         Customer ID  Gender  Age  Income (USD/Month)  Transaction ID  \\\n",
       "0             29290    Male   28               10813        10000011   \n",
       "1             29290    Male   28               10813        10351127   \n",
       "2             29290    Male   28               10813        10412921   \n",
       "3             27703    Male   27                9237        10000012   \n",
       "4             27703    Male   27                9237        10320494   \n",
       "...             ...     ...  ...                 ...             ...   \n",
       "359387        38520  Female   42               19417        10439790   \n",
       "359388        12490    Male   33               18713        10439799   \n",
       "359389        41414    Male   38                3960        10439838   \n",
       "359390        41677    Male   23               19454        10439840   \n",
       "359391        39761  Female   32               10128        10439846   \n",
       "\n",
       "       Payment_Mode Date of Travel     Company            City  KM Travelled  \\\n",
       "0              Card       08/01/16    Pink Cab      ATLANTA GA         30.45   \n",
       "1              Cash       21/07/18  Yellow Cab      ATLANTA GA         26.19   \n",
       "2              Card       23/11/18  Yellow Cab      ATLANTA GA         42.55   \n",
       "3              Card       06/01/16    Pink Cab      ATLANTA GA         28.62   \n",
       "4              Card       21/04/18  Yellow Cab      ATLANTA GA         36.38   \n",
       "...             ...            ...         ...             ...           ...   \n",
       "359387         Card       07/01/18  Yellow Cab      SEATTLE WA         16.66   \n",
       "359388         Cash       03/01/18  Yellow Cab  SILICON VALLEY         13.72   \n",
       "359389         Card       04/01/18  Yellow Cab       TUCSON AZ         19.00   \n",
       "359390         Cash       06/01/18  Yellow Cab       TUCSON AZ          5.60   \n",
       "359391         Card       04/01/18  Yellow Cab       TUCSON AZ         13.30   \n",
       "\n",
       "        Price Charged  Cost of Trip  Population  Users  \n",
       "0              370.95      313.6350      814885  24701  \n",
       "1              598.70      317.4228      814885  24701  \n",
       "2              792.05      597.4020      814885  24701  \n",
       "3              358.52      334.8540      814885  24701  \n",
       "4              721.10      467.1192      814885  24701  \n",
       "...               ...           ...         ...    ...  \n",
       "359387         261.18      213.9144      671238  25063  \n",
       "359388         277.97      172.8720     1177609  27247  \n",
       "359389         303.77      232.5600      631442   5712  \n",
       "359390          92.42       70.5600      631442   5712  \n",
       "359391         244.65      180.3480      631442   5712  \n",
       "\n",
       "[359392 rows x 14 columns]>"
      ]
     },
     "execution_count": 37,
     "metadata": {},
     "output_type": "execute_result"
    }
   ],
   "source": [
    "# summary of the master data \n",
    "df.info"
   ]
  },
  {
   "cell_type": "code",
   "execution_count": 38,
   "id": "4ddf603b",
   "metadata": {},
   "outputs": [
    {
     "data": {
      "text/plain": [
       "Customer ID           0\n",
       "Gender                0\n",
       "Age                   0\n",
       "Income (USD/Month)    0\n",
       "Transaction ID        0\n",
       "Payment_Mode          0\n",
       "Date of Travel        0\n",
       "Company               0\n",
       "City                  0\n",
       "KM Travelled          0\n",
       "Price Charged         0\n",
       "Cost of Trip          0\n",
       "Population            0\n",
       "Users                 0\n",
       "dtype: int64"
      ]
     },
     "execution_count": 38,
     "metadata": {},
     "output_type": "execute_result"
    }
   ],
   "source": [
    "#checking for null values\n",
    "df.isna().sum()"
   ]
  },
  {
   "cell_type": "code",
   "execution_count": 39,
   "id": "da62fd9f",
   "metadata": {},
   "outputs": [
    {
     "data": {
      "text/plain": [
       "0         False\n",
       "1         False\n",
       "2         False\n",
       "3         False\n",
       "4         False\n",
       "          ...  \n",
       "359387    False\n",
       "359388    False\n",
       "359389    False\n",
       "359390    False\n",
       "359391    False\n",
       "Length: 359392, dtype: bool"
      ]
     },
     "execution_count": 39,
     "metadata": {},
     "output_type": "execute_result"
    }
   ],
   "source": [
    "# checking for duplicates\n",
    "df.duplicated()"
   ]
  },
  {
   "cell_type": "code",
   "execution_count": 40,
   "id": "df30a2a0",
   "metadata": {},
   "outputs": [],
   "source": [
    "df['Date of Travel']=pd.to_datetime(df['Date of Travel'])\n",
    "df['Month']=df['Date of Travel'].dt.month \n",
    "df['Quarter']=df['Date of Travel'].dt.quarter \n",
    "df['Year']=df['Date of Travel'].dt.year"
   ]
  },
  {
   "cell_type": "code",
   "execution_count": 41,
   "id": "3c07b365",
   "metadata": {},
   "outputs": [
    {
     "data": {
      "text/html": [
       "<div>\n",
       "<style scoped>\n",
       "    .dataframe tbody tr th:only-of-type {\n",
       "        vertical-align: middle;\n",
       "    }\n",
       "\n",
       "    .dataframe tbody tr th {\n",
       "        vertical-align: top;\n",
       "    }\n",
       "\n",
       "    .dataframe thead th {\n",
       "        text-align: right;\n",
       "    }\n",
       "</style>\n",
       "<table border=\"1\" class=\"dataframe\">\n",
       "  <thead>\n",
       "    <tr style=\"text-align: right;\">\n",
       "      <th></th>\n",
       "      <th>Customer ID</th>\n",
       "      <th>Gender</th>\n",
       "      <th>Age</th>\n",
       "      <th>Income (USD/Month)</th>\n",
       "      <th>Transaction ID</th>\n",
       "      <th>Payment_Mode</th>\n",
       "      <th>Date of Travel</th>\n",
       "      <th>Company</th>\n",
       "      <th>City</th>\n",
       "      <th>KM Travelled</th>\n",
       "      <th>Price Charged</th>\n",
       "      <th>Cost of Trip</th>\n",
       "      <th>Population</th>\n",
       "      <th>Users</th>\n",
       "      <th>Month</th>\n",
       "      <th>Quarter</th>\n",
       "      <th>Year</th>\n",
       "    </tr>\n",
       "  </thead>\n",
       "  <tbody>\n",
       "    <tr>\n",
       "      <th>0</th>\n",
       "      <td>29290</td>\n",
       "      <td>Male</td>\n",
       "      <td>28</td>\n",
       "      <td>10813</td>\n",
       "      <td>10000011</td>\n",
       "      <td>Card</td>\n",
       "      <td>2016-08-01</td>\n",
       "      <td>Pink Cab</td>\n",
       "      <td>ATLANTA GA</td>\n",
       "      <td>30.45</td>\n",
       "      <td>370.95</td>\n",
       "      <td>313.6350</td>\n",
       "      <td>814885</td>\n",
       "      <td>24701</td>\n",
       "      <td>8</td>\n",
       "      <td>3</td>\n",
       "      <td>2016</td>\n",
       "    </tr>\n",
       "    <tr>\n",
       "      <th>1</th>\n",
       "      <td>29290</td>\n",
       "      <td>Male</td>\n",
       "      <td>28</td>\n",
       "      <td>10813</td>\n",
       "      <td>10351127</td>\n",
       "      <td>Cash</td>\n",
       "      <td>2018-07-21</td>\n",
       "      <td>Yellow Cab</td>\n",
       "      <td>ATLANTA GA</td>\n",
       "      <td>26.19</td>\n",
       "      <td>598.70</td>\n",
       "      <td>317.4228</td>\n",
       "      <td>814885</td>\n",
       "      <td>24701</td>\n",
       "      <td>7</td>\n",
       "      <td>3</td>\n",
       "      <td>2018</td>\n",
       "    </tr>\n",
       "    <tr>\n",
       "      <th>2</th>\n",
       "      <td>29290</td>\n",
       "      <td>Male</td>\n",
       "      <td>28</td>\n",
       "      <td>10813</td>\n",
       "      <td>10412921</td>\n",
       "      <td>Card</td>\n",
       "      <td>2018-11-23</td>\n",
       "      <td>Yellow Cab</td>\n",
       "      <td>ATLANTA GA</td>\n",
       "      <td>42.55</td>\n",
       "      <td>792.05</td>\n",
       "      <td>597.4020</td>\n",
       "      <td>814885</td>\n",
       "      <td>24701</td>\n",
       "      <td>11</td>\n",
       "      <td>4</td>\n",
       "      <td>2018</td>\n",
       "    </tr>\n",
       "    <tr>\n",
       "      <th>3</th>\n",
       "      <td>27703</td>\n",
       "      <td>Male</td>\n",
       "      <td>27</td>\n",
       "      <td>9237</td>\n",
       "      <td>10000012</td>\n",
       "      <td>Card</td>\n",
       "      <td>2016-06-01</td>\n",
       "      <td>Pink Cab</td>\n",
       "      <td>ATLANTA GA</td>\n",
       "      <td>28.62</td>\n",
       "      <td>358.52</td>\n",
       "      <td>334.8540</td>\n",
       "      <td>814885</td>\n",
       "      <td>24701</td>\n",
       "      <td>6</td>\n",
       "      <td>2</td>\n",
       "      <td>2016</td>\n",
       "    </tr>\n",
       "    <tr>\n",
       "      <th>4</th>\n",
       "      <td>27703</td>\n",
       "      <td>Male</td>\n",
       "      <td>27</td>\n",
       "      <td>9237</td>\n",
       "      <td>10320494</td>\n",
       "      <td>Card</td>\n",
       "      <td>2018-04-21</td>\n",
       "      <td>Yellow Cab</td>\n",
       "      <td>ATLANTA GA</td>\n",
       "      <td>36.38</td>\n",
       "      <td>721.10</td>\n",
       "      <td>467.1192</td>\n",
       "      <td>814885</td>\n",
       "      <td>24701</td>\n",
       "      <td>4</td>\n",
       "      <td>2</td>\n",
       "      <td>2018</td>\n",
       "    </tr>\n",
       "  </tbody>\n",
       "</table>\n",
       "</div>"
      ],
      "text/plain": [
       "   Customer ID Gender  Age  Income (USD/Month)  Transaction ID Payment_Mode  \\\n",
       "0        29290   Male   28               10813        10000011         Card   \n",
       "1        29290   Male   28               10813        10351127         Cash   \n",
       "2        29290   Male   28               10813        10412921         Card   \n",
       "3        27703   Male   27                9237        10000012         Card   \n",
       "4        27703   Male   27                9237        10320494         Card   \n",
       "\n",
       "  Date of Travel     Company        City  KM Travelled  Price Charged  \\\n",
       "0     2016-08-01    Pink Cab  ATLANTA GA         30.45         370.95   \n",
       "1     2018-07-21  Yellow Cab  ATLANTA GA         26.19         598.70   \n",
       "2     2018-11-23  Yellow Cab  ATLANTA GA         42.55         792.05   \n",
       "3     2016-06-01    Pink Cab  ATLANTA GA         28.62         358.52   \n",
       "4     2018-04-21  Yellow Cab  ATLANTA GA         36.38         721.10   \n",
       "\n",
       "   Cost of Trip  Population  Users  Month  Quarter  Year  \n",
       "0      313.6350      814885  24701      8        3  2016  \n",
       "1      317.4228      814885  24701      7        3  2018  \n",
       "2      597.4020      814885  24701     11        4  2018  \n",
       "3      334.8540      814885  24701      6        2  2016  \n",
       "4      467.1192      814885  24701      4        2  2018  "
      ]
     },
     "execution_count": 41,
     "metadata": {},
     "output_type": "execute_result"
    }
   ],
   "source": [
    "df.head(5)"
   ]
  },
  {
   "cell_type": "code",
   "execution_count": 42,
   "id": "fa878872",
   "metadata": {},
   "outputs": [
    {
     "data": {
      "text/html": [
       "<div>\n",
       "<style scoped>\n",
       "    .dataframe tbody tr th:only-of-type {\n",
       "        vertical-align: middle;\n",
       "    }\n",
       "\n",
       "    .dataframe tbody tr th {\n",
       "        vertical-align: top;\n",
       "    }\n",
       "\n",
       "    .dataframe thead th {\n",
       "        text-align: right;\n",
       "    }\n",
       "</style>\n",
       "<table border=\"1\" class=\"dataframe\">\n",
       "  <thead>\n",
       "    <tr style=\"text-align: right;\">\n",
       "      <th></th>\n",
       "      <th>Customer ID</th>\n",
       "      <th>Gender</th>\n",
       "      <th>Age</th>\n",
       "      <th>Income (USD/Month)</th>\n",
       "      <th>Transaction ID</th>\n",
       "      <th>Payment_Mode</th>\n",
       "      <th>Date of Travel</th>\n",
       "      <th>Company</th>\n",
       "      <th>City</th>\n",
       "      <th>KM Travelled</th>\n",
       "      <th>Price Charged</th>\n",
       "      <th>Cost of Trip</th>\n",
       "      <th>Population</th>\n",
       "      <th>Users</th>\n",
       "      <th>Month</th>\n",
       "      <th>Quarter</th>\n",
       "      <th>Year</th>\n",
       "      <th>Profit on ride</th>\n",
       "    </tr>\n",
       "  </thead>\n",
       "  <tbody>\n",
       "    <tr>\n",
       "      <th>0</th>\n",
       "      <td>29290</td>\n",
       "      <td>Male</td>\n",
       "      <td>28</td>\n",
       "      <td>10813</td>\n",
       "      <td>10000011</td>\n",
       "      <td>Card</td>\n",
       "      <td>2016-08-01</td>\n",
       "      <td>Pink Cab</td>\n",
       "      <td>ATLANTA GA</td>\n",
       "      <td>30.45</td>\n",
       "      <td>370.95</td>\n",
       "      <td>313.6350</td>\n",
       "      <td>814885</td>\n",
       "      <td>24701</td>\n",
       "      <td>8</td>\n",
       "      <td>3</td>\n",
       "      <td>2016</td>\n",
       "      <td>57.3150</td>\n",
       "    </tr>\n",
       "    <tr>\n",
       "      <th>1</th>\n",
       "      <td>29290</td>\n",
       "      <td>Male</td>\n",
       "      <td>28</td>\n",
       "      <td>10813</td>\n",
       "      <td>10351127</td>\n",
       "      <td>Cash</td>\n",
       "      <td>2018-07-21</td>\n",
       "      <td>Yellow Cab</td>\n",
       "      <td>ATLANTA GA</td>\n",
       "      <td>26.19</td>\n",
       "      <td>598.70</td>\n",
       "      <td>317.4228</td>\n",
       "      <td>814885</td>\n",
       "      <td>24701</td>\n",
       "      <td>7</td>\n",
       "      <td>3</td>\n",
       "      <td>2018</td>\n",
       "      <td>281.2772</td>\n",
       "    </tr>\n",
       "    <tr>\n",
       "      <th>2</th>\n",
       "      <td>29290</td>\n",
       "      <td>Male</td>\n",
       "      <td>28</td>\n",
       "      <td>10813</td>\n",
       "      <td>10412921</td>\n",
       "      <td>Card</td>\n",
       "      <td>2018-11-23</td>\n",
       "      <td>Yellow Cab</td>\n",
       "      <td>ATLANTA GA</td>\n",
       "      <td>42.55</td>\n",
       "      <td>792.05</td>\n",
       "      <td>597.4020</td>\n",
       "      <td>814885</td>\n",
       "      <td>24701</td>\n",
       "      <td>11</td>\n",
       "      <td>4</td>\n",
       "      <td>2018</td>\n",
       "      <td>194.6480</td>\n",
       "    </tr>\n",
       "    <tr>\n",
       "      <th>3</th>\n",
       "      <td>27703</td>\n",
       "      <td>Male</td>\n",
       "      <td>27</td>\n",
       "      <td>9237</td>\n",
       "      <td>10000012</td>\n",
       "      <td>Card</td>\n",
       "      <td>2016-06-01</td>\n",
       "      <td>Pink Cab</td>\n",
       "      <td>ATLANTA GA</td>\n",
       "      <td>28.62</td>\n",
       "      <td>358.52</td>\n",
       "      <td>334.8540</td>\n",
       "      <td>814885</td>\n",
       "      <td>24701</td>\n",
       "      <td>6</td>\n",
       "      <td>2</td>\n",
       "      <td>2016</td>\n",
       "      <td>23.6660</td>\n",
       "    </tr>\n",
       "    <tr>\n",
       "      <th>4</th>\n",
       "      <td>27703</td>\n",
       "      <td>Male</td>\n",
       "      <td>27</td>\n",
       "      <td>9237</td>\n",
       "      <td>10320494</td>\n",
       "      <td>Card</td>\n",
       "      <td>2018-04-21</td>\n",
       "      <td>Yellow Cab</td>\n",
       "      <td>ATLANTA GA</td>\n",
       "      <td>36.38</td>\n",
       "      <td>721.10</td>\n",
       "      <td>467.1192</td>\n",
       "      <td>814885</td>\n",
       "      <td>24701</td>\n",
       "      <td>4</td>\n",
       "      <td>2</td>\n",
       "      <td>2018</td>\n",
       "      <td>253.9808</td>\n",
       "    </tr>\n",
       "    <tr>\n",
       "      <th>...</th>\n",
       "      <td>...</td>\n",
       "      <td>...</td>\n",
       "      <td>...</td>\n",
       "      <td>...</td>\n",
       "      <td>...</td>\n",
       "      <td>...</td>\n",
       "      <td>...</td>\n",
       "      <td>...</td>\n",
       "      <td>...</td>\n",
       "      <td>...</td>\n",
       "      <td>...</td>\n",
       "      <td>...</td>\n",
       "      <td>...</td>\n",
       "      <td>...</td>\n",
       "      <td>...</td>\n",
       "      <td>...</td>\n",
       "      <td>...</td>\n",
       "      <td>...</td>\n",
       "    </tr>\n",
       "    <tr>\n",
       "      <th>359387</th>\n",
       "      <td>38520</td>\n",
       "      <td>Female</td>\n",
       "      <td>42</td>\n",
       "      <td>19417</td>\n",
       "      <td>10439790</td>\n",
       "      <td>Card</td>\n",
       "      <td>2018-07-01</td>\n",
       "      <td>Yellow Cab</td>\n",
       "      <td>SEATTLE WA</td>\n",
       "      <td>16.66</td>\n",
       "      <td>261.18</td>\n",
       "      <td>213.9144</td>\n",
       "      <td>671238</td>\n",
       "      <td>25063</td>\n",
       "      <td>7</td>\n",
       "      <td>3</td>\n",
       "      <td>2018</td>\n",
       "      <td>47.2656</td>\n",
       "    </tr>\n",
       "    <tr>\n",
       "      <th>359388</th>\n",
       "      <td>12490</td>\n",
       "      <td>Male</td>\n",
       "      <td>33</td>\n",
       "      <td>18713</td>\n",
       "      <td>10439799</td>\n",
       "      <td>Cash</td>\n",
       "      <td>2018-03-01</td>\n",
       "      <td>Yellow Cab</td>\n",
       "      <td>SILICON VALLEY</td>\n",
       "      <td>13.72</td>\n",
       "      <td>277.97</td>\n",
       "      <td>172.8720</td>\n",
       "      <td>1177609</td>\n",
       "      <td>27247</td>\n",
       "      <td>3</td>\n",
       "      <td>1</td>\n",
       "      <td>2018</td>\n",
       "      <td>105.0980</td>\n",
       "    </tr>\n",
       "    <tr>\n",
       "      <th>359389</th>\n",
       "      <td>41414</td>\n",
       "      <td>Male</td>\n",
       "      <td>38</td>\n",
       "      <td>3960</td>\n",
       "      <td>10439838</td>\n",
       "      <td>Card</td>\n",
       "      <td>2018-04-01</td>\n",
       "      <td>Yellow Cab</td>\n",
       "      <td>TUCSON AZ</td>\n",
       "      <td>19.00</td>\n",
       "      <td>303.77</td>\n",
       "      <td>232.5600</td>\n",
       "      <td>631442</td>\n",
       "      <td>5712</td>\n",
       "      <td>4</td>\n",
       "      <td>2</td>\n",
       "      <td>2018</td>\n",
       "      <td>71.2100</td>\n",
       "    </tr>\n",
       "    <tr>\n",
       "      <th>359390</th>\n",
       "      <td>41677</td>\n",
       "      <td>Male</td>\n",
       "      <td>23</td>\n",
       "      <td>19454</td>\n",
       "      <td>10439840</td>\n",
       "      <td>Cash</td>\n",
       "      <td>2018-06-01</td>\n",
       "      <td>Yellow Cab</td>\n",
       "      <td>TUCSON AZ</td>\n",
       "      <td>5.60</td>\n",
       "      <td>92.42</td>\n",
       "      <td>70.5600</td>\n",
       "      <td>631442</td>\n",
       "      <td>5712</td>\n",
       "      <td>6</td>\n",
       "      <td>2</td>\n",
       "      <td>2018</td>\n",
       "      <td>21.8600</td>\n",
       "    </tr>\n",
       "    <tr>\n",
       "      <th>359391</th>\n",
       "      <td>39761</td>\n",
       "      <td>Female</td>\n",
       "      <td>32</td>\n",
       "      <td>10128</td>\n",
       "      <td>10439846</td>\n",
       "      <td>Card</td>\n",
       "      <td>2018-04-01</td>\n",
       "      <td>Yellow Cab</td>\n",
       "      <td>TUCSON AZ</td>\n",
       "      <td>13.30</td>\n",
       "      <td>244.65</td>\n",
       "      <td>180.3480</td>\n",
       "      <td>631442</td>\n",
       "      <td>5712</td>\n",
       "      <td>4</td>\n",
       "      <td>2</td>\n",
       "      <td>2018</td>\n",
       "      <td>64.3020</td>\n",
       "    </tr>\n",
       "  </tbody>\n",
       "</table>\n",
       "<p>359392 rows × 18 columns</p>\n",
       "</div>"
      ],
      "text/plain": [
       "        Customer ID  Gender  Age  Income (USD/Month)  Transaction ID  \\\n",
       "0             29290    Male   28               10813        10000011   \n",
       "1             29290    Male   28               10813        10351127   \n",
       "2             29290    Male   28               10813        10412921   \n",
       "3             27703    Male   27                9237        10000012   \n",
       "4             27703    Male   27                9237        10320494   \n",
       "...             ...     ...  ...                 ...             ...   \n",
       "359387        38520  Female   42               19417        10439790   \n",
       "359388        12490    Male   33               18713        10439799   \n",
       "359389        41414    Male   38                3960        10439838   \n",
       "359390        41677    Male   23               19454        10439840   \n",
       "359391        39761  Female   32               10128        10439846   \n",
       "\n",
       "       Payment_Mode Date of Travel     Company            City  KM Travelled  \\\n",
       "0              Card     2016-08-01    Pink Cab      ATLANTA GA         30.45   \n",
       "1              Cash     2018-07-21  Yellow Cab      ATLANTA GA         26.19   \n",
       "2              Card     2018-11-23  Yellow Cab      ATLANTA GA         42.55   \n",
       "3              Card     2016-06-01    Pink Cab      ATLANTA GA         28.62   \n",
       "4              Card     2018-04-21  Yellow Cab      ATLANTA GA         36.38   \n",
       "...             ...            ...         ...             ...           ...   \n",
       "359387         Card     2018-07-01  Yellow Cab      SEATTLE WA         16.66   \n",
       "359388         Cash     2018-03-01  Yellow Cab  SILICON VALLEY         13.72   \n",
       "359389         Card     2018-04-01  Yellow Cab       TUCSON AZ         19.00   \n",
       "359390         Cash     2018-06-01  Yellow Cab       TUCSON AZ          5.60   \n",
       "359391         Card     2018-04-01  Yellow Cab       TUCSON AZ         13.30   \n",
       "\n",
       "        Price Charged  Cost of Trip  Population  Users  Month  Quarter  Year  \\\n",
       "0              370.95      313.6350      814885  24701      8        3  2016   \n",
       "1              598.70      317.4228      814885  24701      7        3  2018   \n",
       "2              792.05      597.4020      814885  24701     11        4  2018   \n",
       "3              358.52      334.8540      814885  24701      6        2  2016   \n",
       "4              721.10      467.1192      814885  24701      4        2  2018   \n",
       "...               ...           ...         ...    ...    ...      ...   ...   \n",
       "359387         261.18      213.9144      671238  25063      7        3  2018   \n",
       "359388         277.97      172.8720     1177609  27247      3        1  2018   \n",
       "359389         303.77      232.5600      631442   5712      4        2  2018   \n",
       "359390          92.42       70.5600      631442   5712      6        2  2018   \n",
       "359391         244.65      180.3480      631442   5712      4        2  2018   \n",
       "\n",
       "        Profit on ride  \n",
       "0              57.3150  \n",
       "1             281.2772  \n",
       "2             194.6480  \n",
       "3              23.6660  \n",
       "4             253.9808  \n",
       "...                ...  \n",
       "359387         47.2656  \n",
       "359388        105.0980  \n",
       "359389         71.2100  \n",
       "359390         21.8600  \n",
       "359391         64.3020  \n",
       "\n",
       "[359392 rows x 18 columns]"
      ]
     },
     "execution_count": 42,
     "metadata": {},
     "output_type": "execute_result"
    }
   ],
   "source": [
    "df['Profit on ride'] = df['Price Charged'] -df['Cost of Trip']\n",
    "df['Profit on ride']\n",
    "df"
   ]
  },
  {
   "cell_type": "code",
   "execution_count": 43,
   "id": "d4e29d47",
   "metadata": {},
   "outputs": [
    {
     "data": {
      "text/html": [
       "<div>\n",
       "<style scoped>\n",
       "    .dataframe tbody tr th:only-of-type {\n",
       "        vertical-align: middle;\n",
       "    }\n",
       "\n",
       "    .dataframe tbody tr th {\n",
       "        vertical-align: top;\n",
       "    }\n",
       "\n",
       "    .dataframe thead th {\n",
       "        text-align: right;\n",
       "    }\n",
       "</style>\n",
       "<table border=\"1\" class=\"dataframe\">\n",
       "  <thead>\n",
       "    <tr style=\"text-align: right;\">\n",
       "      <th></th>\n",
       "      <th>Customer ID</th>\n",
       "      <th>Gender</th>\n",
       "      <th>Age</th>\n",
       "      <th>Income (USD/Month)</th>\n",
       "      <th>Transaction ID</th>\n",
       "      <th>Payment_Mode</th>\n",
       "      <th>Date of Travel</th>\n",
       "      <th>Company</th>\n",
       "      <th>City</th>\n",
       "      <th>KM Travelled</th>\n",
       "      <th>...</th>\n",
       "      <th>Cost of Trip</th>\n",
       "      <th>Population</th>\n",
       "      <th>Users</th>\n",
       "      <th>Month</th>\n",
       "      <th>Quarter</th>\n",
       "      <th>Year</th>\n",
       "      <th>Profit on ride</th>\n",
       "      <th>Price charged per km</th>\n",
       "      <th>Cost of Trip per km</th>\n",
       "      <th>profit on ride per km</th>\n",
       "    </tr>\n",
       "  </thead>\n",
       "  <tbody>\n",
       "    <tr>\n",
       "      <th>0</th>\n",
       "      <td>29290</td>\n",
       "      <td>Male</td>\n",
       "      <td>28</td>\n",
       "      <td>10813</td>\n",
       "      <td>10000011</td>\n",
       "      <td>Card</td>\n",
       "      <td>2016-08-01</td>\n",
       "      <td>Pink Cab</td>\n",
       "      <td>ATLANTA GA</td>\n",
       "      <td>30.45</td>\n",
       "      <td>...</td>\n",
       "      <td>313.6350</td>\n",
       "      <td>814885</td>\n",
       "      <td>24701</td>\n",
       "      <td>8</td>\n",
       "      <td>3</td>\n",
       "      <td>2016</td>\n",
       "      <td>57.3150</td>\n",
       "      <td>12.182266</td>\n",
       "      <td>10.30</td>\n",
       "      <td>1.882266</td>\n",
       "    </tr>\n",
       "    <tr>\n",
       "      <th>1</th>\n",
       "      <td>29290</td>\n",
       "      <td>Male</td>\n",
       "      <td>28</td>\n",
       "      <td>10813</td>\n",
       "      <td>10351127</td>\n",
       "      <td>Cash</td>\n",
       "      <td>2018-07-21</td>\n",
       "      <td>Yellow Cab</td>\n",
       "      <td>ATLANTA GA</td>\n",
       "      <td>26.19</td>\n",
       "      <td>...</td>\n",
       "      <td>317.4228</td>\n",
       "      <td>814885</td>\n",
       "      <td>24701</td>\n",
       "      <td>7</td>\n",
       "      <td>3</td>\n",
       "      <td>2018</td>\n",
       "      <td>281.2772</td>\n",
       "      <td>22.859870</td>\n",
       "      <td>12.12</td>\n",
       "      <td>10.739870</td>\n",
       "    </tr>\n",
       "    <tr>\n",
       "      <th>2</th>\n",
       "      <td>29290</td>\n",
       "      <td>Male</td>\n",
       "      <td>28</td>\n",
       "      <td>10813</td>\n",
       "      <td>10412921</td>\n",
       "      <td>Card</td>\n",
       "      <td>2018-11-23</td>\n",
       "      <td>Yellow Cab</td>\n",
       "      <td>ATLANTA GA</td>\n",
       "      <td>42.55</td>\n",
       "      <td>...</td>\n",
       "      <td>597.4020</td>\n",
       "      <td>814885</td>\n",
       "      <td>24701</td>\n",
       "      <td>11</td>\n",
       "      <td>4</td>\n",
       "      <td>2018</td>\n",
       "      <td>194.6480</td>\n",
       "      <td>18.614571</td>\n",
       "      <td>14.04</td>\n",
       "      <td>4.574571</td>\n",
       "    </tr>\n",
       "    <tr>\n",
       "      <th>3</th>\n",
       "      <td>27703</td>\n",
       "      <td>Male</td>\n",
       "      <td>27</td>\n",
       "      <td>9237</td>\n",
       "      <td>10000012</td>\n",
       "      <td>Card</td>\n",
       "      <td>2016-06-01</td>\n",
       "      <td>Pink Cab</td>\n",
       "      <td>ATLANTA GA</td>\n",
       "      <td>28.62</td>\n",
       "      <td>...</td>\n",
       "      <td>334.8540</td>\n",
       "      <td>814885</td>\n",
       "      <td>24701</td>\n",
       "      <td>6</td>\n",
       "      <td>2</td>\n",
       "      <td>2016</td>\n",
       "      <td>23.6660</td>\n",
       "      <td>12.526904</td>\n",
       "      <td>11.70</td>\n",
       "      <td>0.826904</td>\n",
       "    </tr>\n",
       "    <tr>\n",
       "      <th>4</th>\n",
       "      <td>27703</td>\n",
       "      <td>Male</td>\n",
       "      <td>27</td>\n",
       "      <td>9237</td>\n",
       "      <td>10320494</td>\n",
       "      <td>Card</td>\n",
       "      <td>2018-04-21</td>\n",
       "      <td>Yellow Cab</td>\n",
       "      <td>ATLANTA GA</td>\n",
       "      <td>36.38</td>\n",
       "      <td>...</td>\n",
       "      <td>467.1192</td>\n",
       "      <td>814885</td>\n",
       "      <td>24701</td>\n",
       "      <td>4</td>\n",
       "      <td>2</td>\n",
       "      <td>2018</td>\n",
       "      <td>253.9808</td>\n",
       "      <td>19.821330</td>\n",
       "      <td>12.84</td>\n",
       "      <td>6.981330</td>\n",
       "    </tr>\n",
       "    <tr>\n",
       "      <th>...</th>\n",
       "      <td>...</td>\n",
       "      <td>...</td>\n",
       "      <td>...</td>\n",
       "      <td>...</td>\n",
       "      <td>...</td>\n",
       "      <td>...</td>\n",
       "      <td>...</td>\n",
       "      <td>...</td>\n",
       "      <td>...</td>\n",
       "      <td>...</td>\n",
       "      <td>...</td>\n",
       "      <td>...</td>\n",
       "      <td>...</td>\n",
       "      <td>...</td>\n",
       "      <td>...</td>\n",
       "      <td>...</td>\n",
       "      <td>...</td>\n",
       "      <td>...</td>\n",
       "      <td>...</td>\n",
       "      <td>...</td>\n",
       "      <td>...</td>\n",
       "    </tr>\n",
       "    <tr>\n",
       "      <th>359387</th>\n",
       "      <td>38520</td>\n",
       "      <td>Female</td>\n",
       "      <td>42</td>\n",
       "      <td>19417</td>\n",
       "      <td>10439790</td>\n",
       "      <td>Card</td>\n",
       "      <td>2018-07-01</td>\n",
       "      <td>Yellow Cab</td>\n",
       "      <td>SEATTLE WA</td>\n",
       "      <td>16.66</td>\n",
       "      <td>...</td>\n",
       "      <td>213.9144</td>\n",
       "      <td>671238</td>\n",
       "      <td>25063</td>\n",
       "      <td>7</td>\n",
       "      <td>3</td>\n",
       "      <td>2018</td>\n",
       "      <td>47.2656</td>\n",
       "      <td>15.677071</td>\n",
       "      <td>12.84</td>\n",
       "      <td>2.837071</td>\n",
       "    </tr>\n",
       "    <tr>\n",
       "      <th>359388</th>\n",
       "      <td>12490</td>\n",
       "      <td>Male</td>\n",
       "      <td>33</td>\n",
       "      <td>18713</td>\n",
       "      <td>10439799</td>\n",
       "      <td>Cash</td>\n",
       "      <td>2018-03-01</td>\n",
       "      <td>Yellow Cab</td>\n",
       "      <td>SILICON VALLEY</td>\n",
       "      <td>13.72</td>\n",
       "      <td>...</td>\n",
       "      <td>172.8720</td>\n",
       "      <td>1177609</td>\n",
       "      <td>27247</td>\n",
       "      <td>3</td>\n",
       "      <td>1</td>\n",
       "      <td>2018</td>\n",
       "      <td>105.0980</td>\n",
       "      <td>20.260204</td>\n",
       "      <td>12.60</td>\n",
       "      <td>7.660204</td>\n",
       "    </tr>\n",
       "    <tr>\n",
       "      <th>359389</th>\n",
       "      <td>41414</td>\n",
       "      <td>Male</td>\n",
       "      <td>38</td>\n",
       "      <td>3960</td>\n",
       "      <td>10439838</td>\n",
       "      <td>Card</td>\n",
       "      <td>2018-04-01</td>\n",
       "      <td>Yellow Cab</td>\n",
       "      <td>TUCSON AZ</td>\n",
       "      <td>19.00</td>\n",
       "      <td>...</td>\n",
       "      <td>232.5600</td>\n",
       "      <td>631442</td>\n",
       "      <td>5712</td>\n",
       "      <td>4</td>\n",
       "      <td>2</td>\n",
       "      <td>2018</td>\n",
       "      <td>71.2100</td>\n",
       "      <td>15.987895</td>\n",
       "      <td>12.24</td>\n",
       "      <td>3.747895</td>\n",
       "    </tr>\n",
       "    <tr>\n",
       "      <th>359390</th>\n",
       "      <td>41677</td>\n",
       "      <td>Male</td>\n",
       "      <td>23</td>\n",
       "      <td>19454</td>\n",
       "      <td>10439840</td>\n",
       "      <td>Cash</td>\n",
       "      <td>2018-06-01</td>\n",
       "      <td>Yellow Cab</td>\n",
       "      <td>TUCSON AZ</td>\n",
       "      <td>5.60</td>\n",
       "      <td>...</td>\n",
       "      <td>70.5600</td>\n",
       "      <td>631442</td>\n",
       "      <td>5712</td>\n",
       "      <td>6</td>\n",
       "      <td>2</td>\n",
       "      <td>2018</td>\n",
       "      <td>21.8600</td>\n",
       "      <td>16.503571</td>\n",
       "      <td>12.60</td>\n",
       "      <td>3.903571</td>\n",
       "    </tr>\n",
       "    <tr>\n",
       "      <th>359391</th>\n",
       "      <td>39761</td>\n",
       "      <td>Female</td>\n",
       "      <td>32</td>\n",
       "      <td>10128</td>\n",
       "      <td>10439846</td>\n",
       "      <td>Card</td>\n",
       "      <td>2018-04-01</td>\n",
       "      <td>Yellow Cab</td>\n",
       "      <td>TUCSON AZ</td>\n",
       "      <td>13.30</td>\n",
       "      <td>...</td>\n",
       "      <td>180.3480</td>\n",
       "      <td>631442</td>\n",
       "      <td>5712</td>\n",
       "      <td>4</td>\n",
       "      <td>2</td>\n",
       "      <td>2018</td>\n",
       "      <td>64.3020</td>\n",
       "      <td>18.394737</td>\n",
       "      <td>13.56</td>\n",
       "      <td>4.834737</td>\n",
       "    </tr>\n",
       "  </tbody>\n",
       "</table>\n",
       "<p>359392 rows × 21 columns</p>\n",
       "</div>"
      ],
      "text/plain": [
       "        Customer ID  Gender  Age  Income (USD/Month)  Transaction ID  \\\n",
       "0             29290    Male   28               10813        10000011   \n",
       "1             29290    Male   28               10813        10351127   \n",
       "2             29290    Male   28               10813        10412921   \n",
       "3             27703    Male   27                9237        10000012   \n",
       "4             27703    Male   27                9237        10320494   \n",
       "...             ...     ...  ...                 ...             ...   \n",
       "359387        38520  Female   42               19417        10439790   \n",
       "359388        12490    Male   33               18713        10439799   \n",
       "359389        41414    Male   38                3960        10439838   \n",
       "359390        41677    Male   23               19454        10439840   \n",
       "359391        39761  Female   32               10128        10439846   \n",
       "\n",
       "       Payment_Mode Date of Travel     Company            City  KM Travelled  \\\n",
       "0              Card     2016-08-01    Pink Cab      ATLANTA GA         30.45   \n",
       "1              Cash     2018-07-21  Yellow Cab      ATLANTA GA         26.19   \n",
       "2              Card     2018-11-23  Yellow Cab      ATLANTA GA         42.55   \n",
       "3              Card     2016-06-01    Pink Cab      ATLANTA GA         28.62   \n",
       "4              Card     2018-04-21  Yellow Cab      ATLANTA GA         36.38   \n",
       "...             ...            ...         ...             ...           ...   \n",
       "359387         Card     2018-07-01  Yellow Cab      SEATTLE WA         16.66   \n",
       "359388         Cash     2018-03-01  Yellow Cab  SILICON VALLEY         13.72   \n",
       "359389         Card     2018-04-01  Yellow Cab       TUCSON AZ         19.00   \n",
       "359390         Cash     2018-06-01  Yellow Cab       TUCSON AZ          5.60   \n",
       "359391         Card     2018-04-01  Yellow Cab       TUCSON AZ         13.30   \n",
       "\n",
       "        ...  Cost of Trip  Population  Users  Month  Quarter  Year  \\\n",
       "0       ...      313.6350      814885  24701      8        3  2016   \n",
       "1       ...      317.4228      814885  24701      7        3  2018   \n",
       "2       ...      597.4020      814885  24701     11        4  2018   \n",
       "3       ...      334.8540      814885  24701      6        2  2016   \n",
       "4       ...      467.1192      814885  24701      4        2  2018   \n",
       "...     ...           ...         ...    ...    ...      ...   ...   \n",
       "359387  ...      213.9144      671238  25063      7        3  2018   \n",
       "359388  ...      172.8720     1177609  27247      3        1  2018   \n",
       "359389  ...      232.5600      631442   5712      4        2  2018   \n",
       "359390  ...       70.5600      631442   5712      6        2  2018   \n",
       "359391  ...      180.3480      631442   5712      4        2  2018   \n",
       "\n",
       "        Profit on ride  Price charged per km  Cost of Trip per km  \\\n",
       "0              57.3150             12.182266                10.30   \n",
       "1             281.2772             22.859870                12.12   \n",
       "2             194.6480             18.614571                14.04   \n",
       "3              23.6660             12.526904                11.70   \n",
       "4             253.9808             19.821330                12.84   \n",
       "...                ...                   ...                  ...   \n",
       "359387         47.2656             15.677071                12.84   \n",
       "359388        105.0980             20.260204                12.60   \n",
       "359389         71.2100             15.987895                12.24   \n",
       "359390         21.8600             16.503571                12.60   \n",
       "359391         64.3020             18.394737                13.56   \n",
       "\n",
       "        profit on ride per km  \n",
       "0                    1.882266  \n",
       "1                   10.739870  \n",
       "2                    4.574571  \n",
       "3                    0.826904  \n",
       "4                    6.981330  \n",
       "...                       ...  \n",
       "359387               2.837071  \n",
       "359388               7.660204  \n",
       "359389               3.747895  \n",
       "359390               3.903571  \n",
       "359391               4.834737  \n",
       "\n",
       "[359392 rows x 21 columns]"
      ]
     },
     "execution_count": 43,
     "metadata": {},
     "output_type": "execute_result"
    }
   ],
   "source": [
    "df['Price charged per km'] = df['Price Charged']/df['KM Travelled']\n",
    "df['Cost of Trip per km'] = df['Cost of Trip']/df['KM Travelled']\n",
    "df['profit on ride per km'] = df['Price charged per km'] - df['Cost of Trip per km']\n",
    "df"
   ]
  },
  {
   "cell_type": "markdown",
   "id": "ea9cffc6",
   "metadata": {},
   "source": [
    "# EDA"
   ]
  },
  {
   "cell_type": "markdown",
   "id": "cfcd1414",
   "metadata": {},
   "source": [
    "## Univariate analysis"
   ]
  },
  {
   "cell_type": "code",
   "execution_count": 44,
   "id": "d38d032c",
   "metadata": {},
   "outputs": [
    {
     "data": {
      "text/plain": [
       "46148"
      ]
     },
     "execution_count": 44,
     "metadata": {},
     "output_type": "execute_result"
    }
   ],
   "source": [
    "df['Customer ID'].nunique()"
   ]
  },
  {
   "cell_type": "markdown",
   "id": "dd8e1b7a",
   "metadata": {},
   "source": [
    "### Total 46148 customers travelled by using yellow cab and pink cab company"
   ]
  },
  {
   "cell_type": "code",
   "execution_count": 45,
   "id": "260b1529",
   "metadata": {},
   "outputs": [
    {
     "data": {
      "text/plain": [
       "Male      205912\n",
       "Female    153480\n",
       "Name: Gender, dtype: int64"
      ]
     },
     "execution_count": 45,
     "metadata": {},
     "output_type": "execute_result"
    }
   ],
   "source": [
    "df['Gender'].value_counts()"
   ]
  },
  {
   "cell_type": "code",
   "execution_count": 46,
   "id": "475063d6",
   "metadata": {},
   "outputs": [
    {
     "data": {
      "image/png": "[encoded data removed]",
      "text/plain": [
       "<Figure size 432x288 with 1 Axes>"
      ]
     },
     "metadata": {
      "needs_background": "light"
     },
     "output_type": "display_data"
    }
   ],
   "source": [
    "sns.countplot(data=df,x='Gender')\n",
    "plt.show()"
   ]
  },
  {
   "cell_type": "markdown",
   "id": "b6b1b59b",
   "metadata": {},
   "source": [
    "### Number of males is more compared to the number of females."
   ]
  },
  {
   "cell_type": "code",
   "execution_count": 47,
   "id": "75a78425",
   "metadata": {},
   "outputs": [
    {
     "data": {
      "image/png": "[encoded data removed]",
      "text/plain": [
       "<Figure size 1080x504 with 1 Axes>"
      ]
     },
     "metadata": {
      "needs_background": "light"
     },
     "output_type": "display_data"
    }
   ],
   "source": [
    "plt.figure(figsize=(15,7))\n",
    "sns.countplot(x='Age',data=df)\n",
    "plt.show()"
   ]
  },
  {
   "cell_type": "markdown",
   "id": "7f80ad4b",
   "metadata": {},
   "source": [
    "### youngest customer age is 18 and oldest customer age is 65"
   ]
  },
  {
   "cell_type": "code",
   "execution_count": 48,
   "id": "e944790d",
   "metadata": {},
   "outputs": [],
   "source": [
    "age_counts = df['Age'].value_counts().sort_values(ascending=False)"
   ]
  },
  {
   "cell_type": "code",
   "execution_count": 49,
   "id": "d70f6678",
   "metadata": {},
   "outputs": [
    {
     "data": {
      "image/png": "[encoded data removed]",
      "text/plain": [
       "<Figure size 1080x504 with 1 Axes>"
      ]
     },
     "metadata": {
      "needs_background": "light"
     },
     "output_type": "display_data"
    }
   ],
   "source": [
    "plt.figure(figsize=(15,7))\n",
    "sns.countplot(data=df, x='Age', order=age_counts.index)\n",
    "plt.show()"
   ]
  },
  {
   "cell_type": "markdown",
   "id": "413a2b95",
   "metadata": {},
   "source": [
    "### customers whose age is 23 took the highest number of rides  and customers whose age is 65 took the lowest number of rides "
   ]
  },
  {
   "cell_type": "code",
   "execution_count": 50,
   "id": "4dfe8c81",
   "metadata": {},
   "outputs": [
    {
     "data": {
      "image/png": "[encoded data removed]",
      "text/plain": [
       "<Figure size 432x288 with 1 Axes>"
      ]
     },
     "metadata": {
      "needs_background": "light"
     },
     "output_type": "display_data"
    }
   ],
   "source": [
    "sns.countplot(x='Payment_Mode',data=df)\n",
    "plt.show()"
   ]
  },
  {
   "cell_type": "markdown",
   "id": "40eced81",
   "metadata": {},
   "source": [
    "### Majority of customers used card payment mode."
   ]
  },
  {
   "cell_type": "code",
   "execution_count": 51,
   "id": "8d77ac89",
   "metadata": {},
   "outputs": [
    {
     "data": {
      "text/plain": [
       "Yellow Cab    274681\n",
       "Pink Cab       84711\n",
       "Name: Company, dtype: int64"
      ]
     },
     "execution_count": 51,
     "metadata": {},
     "output_type": "execute_result"
    }
   ],
   "source": [
    "df['Company'].value_counts()"
   ]
  },
  {
   "cell_type": "code",
   "execution_count": 52,
   "id": "ed8d33d9",
   "metadata": {},
   "outputs": [
    {
     "data": {
      "image/png": "[encoded data removed]",
      "text/plain": [
       "<Figure size 432x288 with 1 Axes>"
      ]
     },
     "metadata": {
      "needs_background": "light"
     },
     "output_type": "display_data"
    }
   ],
   "source": [
    "sns.countplot(x='Company',data=df,palette=['pink','yellow'])\n",
    "plt.show()"
   ]
  },
  {
   "cell_type": "markdown",
   "id": "e08de067",
   "metadata": {},
   "source": [
    "### Yellow cab company having highest number of rides comapred to pink cab company"
   ]
  },
  {
   "cell_type": "code",
   "execution_count": 53,
   "id": "f7250e26",
   "metadata": {},
   "outputs": [],
   "source": [
    "city_count = df['City'].value_counts().sort_values(ascending=False).index"
   ]
  },
  {
   "cell_type": "code",
   "execution_count": 54,
   "id": "485132ee",
   "metadata": {},
   "outputs": [
    {
     "data": {
      "image/png": "[encoded data removed]",
      "text/plain": [
       "<Figure size 1080x504 with 1 Axes>"
      ]
     },
     "metadata": {
      "needs_background": "light"
     },
     "output_type": "display_data"
    }
   ],
   "source": [
    "plt.figure(figsize=(15,7))\n",
    "sns.countplot(x='City',data=df,order = city_count)\n",
    "plt.xticks(rotation=90)\n",
    "plt.show()"
   ]
  },
  {
   "cell_type": "markdown",
   "id": "b6a5420e",
   "metadata": {},
   "source": [
    "### New York city have the highest number of rides compared to all other cities"
   ]
  },
  {
   "cell_type": "code",
   "execution_count": 55,
   "id": "4548b11a",
   "metadata": {},
   "outputs": [
    {
     "data": {
      "image/png": "[encoded data removed]",
      "text/plain": [
       "<Figure size 432x288 with 1 Axes>"
      ]
     },
     "metadata": {
      "needs_background": "light"
     },
     "output_type": "display_data"
    }
   ],
   "source": [
    "sns.distplot(df['KM Travelled'],bins=20)\n",
    "plt.show()"
   ]
  },
  {
   "cell_type": "markdown",
   "id": "8a0373fa",
   "metadata": {},
   "source": [
    "### Most of the rides are in between 1km and 35km"
   ]
  },
  {
   "cell_type": "markdown",
   "id": "f21c454f",
   "metadata": {},
   "source": [
    "## Bivariate Analysis"
   ]
  },
  {
   "cell_type": "code",
   "execution_count": 56,
   "id": "0d45618a",
   "metadata": {},
   "outputs": [
    {
     "name": "stdout",
     "output_type": "stream",
     "text": [
      "Company\n",
      "Pink Cab      310.760307\n",
      "Yellow Cab    457.766450\n",
      "Name: Price Charged, dtype: float64\n"
     ]
    }
   ],
   "source": [
    "# Filter the data based on the desired time period\n",
    "filtered_data = df[(df[\"Date of Travel\"] >= \"2016-01-31\") & (df[\"Date of Travel\"] <= \"2018-12-31\")]\n",
    "\n",
    "# Group the filtered data by cab company name and calculate the average price per ride for each company\n",
    "average_price_per_company = filtered_data.groupby(\"Company\")[\"Price Charged\"].mean()\n",
    "\n",
    "# Print the average fare amount for each cab company\n",
    "print(average_price_per_company)"
   ]
  },
  {
   "cell_type": "markdown",
   "id": "c596ea88",
   "metadata": {},
   "source": [
    "## Average price charged for different rides for yellow cab company is 457.766450 and that for pink cab company is 310.760307"
   ]
  },
  {
   "cell_type": "code",
   "execution_count": 57,
   "id": "2258a1f6",
   "metadata": {},
   "outputs": [
    {
     "name": "stdout",
     "output_type": "stream",
     "text": [
      "Company\n",
      "Pink Cab       62.647572\n",
      "Yellow Cab    159.822301\n",
      "Name: Profit on ride, dtype: float64\n"
     ]
    }
   ],
   "source": [
    "# Filter the data based on the desired time period\n",
    "filtered_data = df[(df[\"Date of Travel\"] >= \"2016-01-31\") & (df[\"Date of Travel\"] <= \"2018-12-31\")]\n",
    "\n",
    "# Group the filtered data by cab company name and calculate the average profit on each ride\n",
    "average_profitonride_per_company = filtered_data.groupby(\"Company\")[\"Profit on ride\"].mean()\n",
    "\n",
    "# Print the average profit on ride for each cab company\n",
    "print(average_profitonride_per_company)"
   ]
  },
  {
   "cell_type": "markdown",
   "id": "37142d68",
   "metadata": {},
   "source": [
    "## Average profit on ride for yellow cab company is 159.822301 and that for pink cab company is 62.647572. "
   ]
  },
  {
   "cell_type": "code",
   "execution_count": 58,
   "id": "8cbe03d4",
   "metadata": {},
   "outputs": [
    {
     "data": {
      "image/png": "[encoded data removed]",
      "text/plain": [
       "<Figure size 432x288 with 1 Axes>"
      ]
     },
     "metadata": {
      "needs_background": "light"
     },
     "output_type": "display_data"
    }
   ],
   "source": [
    "sns.barplot(x='Company',y='Customer ID',data=df,palette=['pink','yellow'])\n",
    "plt.show()"
   ]
  },
  {
   "cell_type": "markdown",
   "id": "075bfcd5",
   "metadata": {},
   "source": [
    "### yellow cab company has the highest number of customers"
   ]
  },
  {
   "cell_type": "code",
   "execution_count": 59,
   "id": "87ddd195",
   "metadata": {},
   "outputs": [
    {
     "data": {
      "image/png": "[encoded data removed]",
      "text/plain": [
       "<Figure size 432x288 with 1 Axes>"
      ]
     },
     "metadata": {
      "needs_background": "light"
     },
     "output_type": "display_data"
    }
   ],
   "source": [
    "sns.countplot(x='Gender',hue='Company',data=df,palette=['pink','yellow'])\n",
    "plt.show()"
   ]
  },
  {
   "cell_type": "markdown",
   "id": "af277a30",
   "metadata": {},
   "source": [
    "### Yellow cab having highest number of customers in both Males and Females"
   ]
  },
  {
   "cell_type": "code",
   "execution_count": 60,
   "id": "ac2496a8",
   "metadata": {},
   "outputs": [
    {
     "data": {
      "image/png": "[encoded data removed]",
      "text/plain": [
       "<Figure size 1080x504 with 1 Axes>"
      ]
     },
     "metadata": {
      "needs_background": "light"
     },
     "output_type": "display_data"
    }
   ],
   "source": [
    "plt.figure(figsize=(15,7))\n",
    "sns.countplot(x='Age',hue='Company',data=df,order=age_counts.index,palette=['pink','yellow'])\n",
    "plt.show()"
   ]
  },
  {
   "cell_type": "markdown",
   "id": "adb3c11e",
   "metadata": {},
   "source": [
    "### All age group like to travel in yellow cab company compared to pink cab company"
   ]
  },
  {
   "cell_type": "code",
   "execution_count": 61,
   "id": "f3f6fdbe",
   "metadata": {},
   "outputs": [
    {
     "data": {
      "image/png": "[encoded data removed]",
      "text/plain": [
       "<Figure size 432x288 with 1 Axes>"
      ]
     },
     "metadata": {
      "needs_background": "light"
     },
     "output_type": "display_data"
    }
   ],
   "source": [
    "sns.barplot(x='Company',y='Income (USD/Month)',data=df,palette=['pink','yellow'])\n",
    "plt.show()"
   ]
  },
  {
   "cell_type": "markdown",
   "id": "9dc783af",
   "metadata": {},
   "source": [
    "### Both yellow and pink cab custmers are having same amount of income "
   ]
  },
  {
   "cell_type": "code",
   "execution_count": 62,
   "id": "c5825ded",
   "metadata": {},
   "outputs": [
    {
     "data": {
      "image/png": "[encoded data removed]",
      "text/plain": [
       "<Figure size 432x288 with 1 Axes>"
      ]
     },
     "metadata": {
      "needs_background": "light"
     },
     "output_type": "display_data"
    }
   ],
   "source": [
    "sns.countplot(x='Payment_Mode',hue='Company',palette=['pink','yellow'],data=df)\n",
    "plt.show()"
   ]
  },
  {
   "cell_type": "markdown",
   "id": "6a2fa519",
   "metadata": {},
   "source": [
    "### In both Card and Cash payment modes, Yellow cab got highest payments"
   ]
  },
  {
   "cell_type": "code",
   "execution_count": 63,
   "id": "f41e2ed2",
   "metadata": {},
   "outputs": [
    {
     "data": {
      "image/png": "[encoded data removed]",
      "text/plain": [
       "<Figure size 1080x504 with 1 Axes>"
      ]
     },
     "metadata": {
      "needs_background": "light"
     },
     "output_type": "display_data"
    }
   ],
   "source": [
    "plt.figure(figsize=(15,7))\n",
    "sns.countplot(x='City',hue='Company',data=df,order = city_count,palette=['pink','yellow'])\n",
    "plt.xticks(rotation=90)\n",
    "plt.show()"
   ]
  },
  {
   "cell_type": "markdown",
   "id": "8d74de1d",
   "metadata": {},
   "source": [
    "### In most of the cities yellow cab got highest number of rides except in case of SAN DIEGO ,NASHVILLE  and SACRAMNTO cities"
   ]
  },
  {
   "cell_type": "code",
   "execution_count": 64,
   "id": "683df0c4",
   "metadata": {},
   "outputs": [
    {
     "data": {
      "image/png": "[encoded data removed]",
      "text/plain": [
       "<Figure size 432x288 with 1 Axes>"
      ]
     },
     "metadata": {
      "needs_background": "light"
     },
     "output_type": "display_data"
    }
   ],
   "source": [
    "sns.barplot(x='Company',y='Price Charged',data=df,palette=['pink','yellow'])\n",
    "plt.show()"
   ]
  },
  {
   "cell_type": "markdown",
   "id": "7c283246",
   "metadata": {},
   "source": [
    "### Price charged per ride is high for yellow cab compared to pink cab"
   ]
  },
  {
   "cell_type": "code",
   "execution_count": 65,
   "id": "570e1ffe",
   "metadata": {},
   "outputs": [
    {
     "data": {
      "image/png": "[encoded data removed]",
      "text/plain": [
       "<Figure size 432x288 with 1 Axes>"
      ]
     },
     "metadata": {
      "needs_background": "light"
     },
     "output_type": "display_data"
    }
   ],
   "source": [
    "sns.barplot(x='Company',y='KM Travelled',data=df,palette=['pink','yellow'])\n",
    "plt.show()"
   ]
  },
  {
   "cell_type": "markdown",
   "id": "7f6cba5c",
   "metadata": {},
   "source": [
    "### Both companies cabs travelled almost the same distance"
   ]
  },
  {
   "cell_type": "code",
   "execution_count": 66,
   "id": "a224889e",
   "metadata": {},
   "outputs": [
    {
     "data": {
      "image/png": "[encoded data removed]",
      "text/plain": [
       "<Figure size 432x288 with 1 Axes>"
      ]
     },
     "metadata": {
      "needs_background": "light"
     },
     "output_type": "display_data"
    }
   ],
   "source": [
    "sns.barplot(x='Year',y='Profit on ride',hue='Company',data=df,palette=['pink','yellow'])\n",
    "plt.show()"
   ]
  },
  {
   "cell_type": "markdown",
   "id": "9473e820",
   "metadata": {},
   "source": [
    "### In each year yellow cab company earn almost twice the profit of pink cab company"
   ]
  },
  {
   "cell_type": "code",
   "execution_count": 67,
   "id": "3c0ad83b",
   "metadata": {},
   "outputs": [
    {
     "data": {
      "image/png": "[encoded data removed]",
      "text/plain": [
       "<Figure size 432x288 with 1 Axes>"
      ]
     },
     "metadata": {
      "needs_background": "light"
     },
     "output_type": "display_data"
    }
   ],
   "source": [
    "sns.barplot(x='Quarter',y='Profit on ride',hue='Company',data=df,palette=('pink','yellow'))\n",
    "plt.show()"
   ]
  },
  {
   "cell_type": "code",
   "execution_count": 68,
   "id": "9a755e30",
   "metadata": {},
   "outputs": [
    {
     "data": {
      "image/png": "[encoded data removed]",
      "text/plain": [
       "<Figure size 432x288 with 1 Axes>"
      ]
     },
     "metadata": {
      "needs_background": "light"
     },
     "output_type": "display_data"
    }
   ],
   "source": [
    "sns.barplot(x='Company',y='profit on ride per km',data=df,palette=['pink','yellow'])\n",
    "plt.show()"
   ]
  },
  {
   "cell_type": "markdown",
   "id": "afb020eb",
   "metadata": {},
   "source": [
    "### Yellow cab company earned more profit compared to pink company"
   ]
  },
  {
   "cell_type": "code",
   "execution_count": 69,
   "id": "58cb7b28",
   "metadata": {},
   "outputs": [
    {
     "data": {
      "image/png": "[encoded data removed]",
      "text/plain": [
       "<Figure size 432x288 with 1 Axes>"
      ]
     },
     "metadata": {
      "needs_background": "light"
     },
     "output_type": "display_data"
    }
   ],
   "source": [
    "sns.barplot(x='Company',y='Customer ID',data=df,palette=['pink','yellow'])\n",
    "plt.show()"
   ]
  },
  {
   "cell_type": "code",
   "execution_count": 70,
   "id": "2de5b534",
   "metadata": {},
   "outputs": [
    {
     "data": {
      "image/png": "[encoded data removed]",
      "text/plain": [
       "<Figure size 432x288 with 1 Axes>"
      ]
     },
     "metadata": {
      "needs_background": "light"
     },
     "output_type": "display_data"
    }
   ],
   "source": [
    "sns.barplot(x='Gender',y='Customer ID',data=df,hue='Company',palette=['pink','yellow'])\n",
    "plt.show()"
   ]
  },
  {
   "cell_type": "code",
   "execution_count": 71,
   "id": "2288af97",
   "metadata": {},
   "outputs": [
    {
     "data": {
      "text/html": [
       "<div>\n",
       "<style scoped>\n",
       "    .dataframe tbody tr th:only-of-type {\n",
       "        vertical-align: middle;\n",
       "    }\n",
       "\n",
       "    .dataframe tbody tr th {\n",
       "        vertical-align: top;\n",
       "    }\n",
       "\n",
       "    .dataframe thead th {\n",
       "        text-align: right;\n",
       "    }\n",
       "</style>\n",
       "<table border=\"1\" class=\"dataframe\">\n",
       "  <thead>\n",
       "    <tr style=\"text-align: right;\">\n",
       "      <th></th>\n",
       "      <th>Customer ID</th>\n",
       "      <th>Gender</th>\n",
       "      <th>Age</th>\n",
       "      <th>Income (USD/Month)</th>\n",
       "      <th>Transaction ID</th>\n",
       "      <th>Payment_Mode</th>\n",
       "      <th>Date of Travel</th>\n",
       "      <th>Company</th>\n",
       "      <th>City</th>\n",
       "      <th>KM Travelled</th>\n",
       "      <th>...</th>\n",
       "      <th>Cost of Trip</th>\n",
       "      <th>Population</th>\n",
       "      <th>Users</th>\n",
       "      <th>Month</th>\n",
       "      <th>Quarter</th>\n",
       "      <th>Year</th>\n",
       "      <th>Profit on ride</th>\n",
       "      <th>Price charged per km</th>\n",
       "      <th>Cost of Trip per km</th>\n",
       "      <th>profit on ride per km</th>\n",
       "    </tr>\n",
       "  </thead>\n",
       "  <tbody>\n",
       "    <tr>\n",
       "      <th>0</th>\n",
       "      <td>29290</td>\n",
       "      <td>Male</td>\n",
       "      <td>28</td>\n",
       "      <td>10813</td>\n",
       "      <td>10000011</td>\n",
       "      <td>Card</td>\n",
       "      <td>2016-08-01</td>\n",
       "      <td>Pink Cab</td>\n",
       "      <td>ATLANTA GA</td>\n",
       "      <td>30.45</td>\n",
       "      <td>...</td>\n",
       "      <td>313.6350</td>\n",
       "      <td>814885</td>\n",
       "      <td>24701</td>\n",
       "      <td>8</td>\n",
       "      <td>3</td>\n",
       "      <td>2016</td>\n",
       "      <td>57.3150</td>\n",
       "      <td>12.182266</td>\n",
       "      <td>10.30</td>\n",
       "      <td>1.882266</td>\n",
       "    </tr>\n",
       "    <tr>\n",
       "      <th>1</th>\n",
       "      <td>29290</td>\n",
       "      <td>Male</td>\n",
       "      <td>28</td>\n",
       "      <td>10813</td>\n",
       "      <td>10351127</td>\n",
       "      <td>Cash</td>\n",
       "      <td>2018-07-21</td>\n",
       "      <td>Yellow Cab</td>\n",
       "      <td>ATLANTA GA</td>\n",
       "      <td>26.19</td>\n",
       "      <td>...</td>\n",
       "      <td>317.4228</td>\n",
       "      <td>814885</td>\n",
       "      <td>24701</td>\n",
       "      <td>7</td>\n",
       "      <td>3</td>\n",
       "      <td>2018</td>\n",
       "      <td>281.2772</td>\n",
       "      <td>22.859870</td>\n",
       "      <td>12.12</td>\n",
       "      <td>10.739870</td>\n",
       "    </tr>\n",
       "    <tr>\n",
       "      <th>2</th>\n",
       "      <td>29290</td>\n",
       "      <td>Male</td>\n",
       "      <td>28</td>\n",
       "      <td>10813</td>\n",
       "      <td>10412921</td>\n",
       "      <td>Card</td>\n",
       "      <td>2018-11-23</td>\n",
       "      <td>Yellow Cab</td>\n",
       "      <td>ATLANTA GA</td>\n",
       "      <td>42.55</td>\n",
       "      <td>...</td>\n",
       "      <td>597.4020</td>\n",
       "      <td>814885</td>\n",
       "      <td>24701</td>\n",
       "      <td>11</td>\n",
       "      <td>4</td>\n",
       "      <td>2018</td>\n",
       "      <td>194.6480</td>\n",
       "      <td>18.614571</td>\n",
       "      <td>14.04</td>\n",
       "      <td>4.574571</td>\n",
       "    </tr>\n",
       "    <tr>\n",
       "      <th>3</th>\n",
       "      <td>27703</td>\n",
       "      <td>Male</td>\n",
       "      <td>27</td>\n",
       "      <td>9237</td>\n",
       "      <td>10000012</td>\n",
       "      <td>Card</td>\n",
       "      <td>2016-06-01</td>\n",
       "      <td>Pink Cab</td>\n",
       "      <td>ATLANTA GA</td>\n",
       "      <td>28.62</td>\n",
       "      <td>...</td>\n",
       "      <td>334.8540</td>\n",
       "      <td>814885</td>\n",
       "      <td>24701</td>\n",
       "      <td>6</td>\n",
       "      <td>2</td>\n",
       "      <td>2016</td>\n",
       "      <td>23.6660</td>\n",
       "      <td>12.526904</td>\n",
       "      <td>11.70</td>\n",
       "      <td>0.826904</td>\n",
       "    </tr>\n",
       "    <tr>\n",
       "      <th>4</th>\n",
       "      <td>27703</td>\n",
       "      <td>Male</td>\n",
       "      <td>27</td>\n",
       "      <td>9237</td>\n",
       "      <td>10320494</td>\n",
       "      <td>Card</td>\n",
       "      <td>2018-04-21</td>\n",
       "      <td>Yellow Cab</td>\n",
       "      <td>ATLANTA GA</td>\n",
       "      <td>36.38</td>\n",
       "      <td>...</td>\n",
       "      <td>467.1192</td>\n",
       "      <td>814885</td>\n",
       "      <td>24701</td>\n",
       "      <td>4</td>\n",
       "      <td>2</td>\n",
       "      <td>2018</td>\n",
       "      <td>253.9808</td>\n",
       "      <td>19.821330</td>\n",
       "      <td>12.84</td>\n",
       "      <td>6.981330</td>\n",
       "    </tr>\n",
       "  </tbody>\n",
       "</table>\n",
       "<p>5 rows × 21 columns</p>\n",
       "</div>"
      ],
      "text/plain": [
       "   Customer ID Gender  Age  Income (USD/Month)  Transaction ID Payment_Mode  \\\n",
       "0        29290   Male   28               10813        10000011         Card   \n",
       "1        29290   Male   28               10813        10351127         Cash   \n",
       "2        29290   Male   28               10813        10412921         Card   \n",
       "3        27703   Male   27                9237        10000012         Card   \n",
       "4        27703   Male   27                9237        10320494         Card   \n",
       "\n",
       "  Date of Travel     Company        City  KM Travelled  ...  Cost of Trip  \\\n",
       "0     2016-08-01    Pink Cab  ATLANTA GA         30.45  ...      313.6350   \n",
       "1     2018-07-21  Yellow Cab  ATLANTA GA         26.19  ...      317.4228   \n",
       "2     2018-11-23  Yellow Cab  ATLANTA GA         42.55  ...      597.4020   \n",
       "3     2016-06-01    Pink Cab  ATLANTA GA         28.62  ...      334.8540   \n",
       "4     2018-04-21  Yellow Cab  ATLANTA GA         36.38  ...      467.1192   \n",
       "\n",
       "   Population  Users  Month  Quarter  Year  Profit on ride  \\\n",
       "0      814885  24701      8        3  2016         57.3150   \n",
       "1      814885  24701      7        3  2018        281.2772   \n",
       "2      814885  24701     11        4  2018        194.6480   \n",
       "3      814885  24701      6        2  2016         23.6660   \n",
       "4      814885  24701      4        2  2018        253.9808   \n",
       "\n",
       "   Price charged per km  Cost of Trip per km  profit on ride per km  \n",
       "0             12.182266                10.30               1.882266  \n",
       "1             22.859870                12.12              10.739870  \n",
       "2             18.614571                14.04               4.574571  \n",
       "3             12.526904                11.70               0.826904  \n",
       "4             19.821330                12.84               6.981330  \n",
       "\n",
       "[5 rows x 21 columns]"
      ]
     },
     "execution_count": 71,
     "metadata": {},
     "output_type": "execute_result"
    }
   ],
   "source": [
    "df.head(5)"
   ]
  },
  {
   "cell_type": "code",
   "execution_count": 72,
   "id": "d9c6bfe9",
   "metadata": {},
   "outputs": [
    {
     "data": {
      "image/png": "[encoded data removed]",
      "text/plain": [
       "<Figure size 1080x504 with 1 Axes>"
      ]
     },
     "metadata": {
      "needs_background": "light"
     },
     "output_type": "display_data"
    }
   ],
   "source": [
    "plt.figure(figsize=(15,7))\n",
    "sns.barplot(x='City',y='Profit on ride',data=df,hue='Company',palette=['pink','yellow'])\n",
    "plt.xticks(rotation=90)\n",
    "plt.show()"
   ]
  },
  {
   "cell_type": "markdown",
   "id": "fec0245d",
   "metadata": {},
   "source": [
    "### All cities have highest profits for yellow cab except TUCSON AZ city"
   ]
  },
  {
   "cell_type": "markdown",
   "id": "4468983b",
   "metadata": {},
   "source": [
    "# EDA Modelling"
   ]
  },
  {
   "cell_type": "code",
   "execution_count": 73,
   "id": "f1288326",
   "metadata": {},
   "outputs": [],
   "source": [
    "from sklearn.preprocessing import LabelEncoder\n",
    "le = LabelEncoder()\n",
    "cols = ['Gender','Company','Payment_Mode','City']\n",
    "for i in cols:\n",
    "    df[i] = le.fit_transform(df[i])"
   ]
  },
  {
   "cell_type": "code",
   "execution_count": 74,
   "id": "187955c5",
   "metadata": {},
   "outputs": [],
   "source": [
    "X = df.drop(['Company','Date of Travel'],axis=1)"
   ]
  },
  {
   "cell_type": "code",
   "execution_count": 75,
   "id": "9d5a2a34",
   "metadata": {},
   "outputs": [],
   "source": [
    "Y = df['Company']"
   ]
  },
  {
   "cell_type": "code",
   "execution_count": 76,
   "id": "b742fc89",
   "metadata": {},
   "outputs": [],
   "source": [
    "from sklearn.model_selection import train_test_split\n",
    "X_train,X_test,y_train,y_test = train_test_split(X,Y,test_size=0.3,random_state=50)"
   ]
  },
  {
   "cell_type": "code",
   "execution_count": 77,
   "id": "ef811e05",
   "metadata": {},
   "outputs": [],
   "source": [
    "from sklearn.linear_model import LogisticRegression\n",
    "lr = LogisticRegression()"
   ]
  },
  {
   "cell_type": "code",
   "execution_count": 78,
   "id": "4e8d053b",
   "metadata": {},
   "outputs": [
    {
     "data": {
      "text/html": [
       "<style>#sk-container-id-1 {color: black;background-color: white;}#sk-container-id-1 pre{padding: 0;}#sk-container-id-1 div.sk-toggleable {background-color: white;}#sk-container-id-1 label.sk-toggleable__label {cursor: pointer;display: block;width: 100%;margin-bottom: 0;padding: 0.3em;box-sizing: border-box;text-align: center;}#sk-container-id-1 label.sk-toggleable__label-arrow:before {content: \"▸\";float: left;margin-right: 0.25em;color: #696969;}#sk-container-id-1 label.sk-toggleable__label-arrow:hover:before {color: black;}#sk-container-id-1 div.sk-estimator:hover label.sk-toggleable__label-arrow:before {color: black;}#sk-container-id-1 div.sk-toggleable__content {max-height: 0;max-width: 0;overflow: hidden;text-align: left;background-color: #f0f8ff;}#sk-container-id-1 div.sk-toggleable__content pre {margin: 0.2em;color: black;border-radius: 0.25em;background-color: #f0f8ff;}#sk-container-id-1 input.sk-toggleable__control:checked~div.sk-toggleable__content {max-height: 200px;max-width: 100%;overflow: auto;}#sk-container-id-1 input.sk-toggleable__control:checked~label.sk-toggleable__label-arrow:before {content: \"▾\";}#sk-container-id-1 div.sk-estimator input.sk-toggleable__control:checked~label.sk-toggleable__label {background-color: #d4ebff;}#sk-container-id-1 div.sk-label input.sk-toggleable__control:checked~label.sk-toggleable__label {background-color: #d4ebff;}#sk-container-id-1 input.sk-hidden--visually {border: 0;clip: rect(1px 1px 1px 1px);clip: rect(1px, 1px, 1px, 1px);height: 1px;margin: -1px;overflow: hidden;padding: 0;position: absolute;width: 1px;}#sk-container-id-1 div.sk-estimator {font-family: monospace;background-color: #f0f8ff;border: 1px dotted black;border-radius: 0.25em;box-sizing: border-box;margin-bottom: 0.5em;}#sk-container-id-1 div.sk-estimator:hover {background-color: #d4ebff;}#sk-container-id-1 div.sk-parallel-item::after {content: \"\";width: 100%;border-bottom: 1px solid gray;flex-grow: 1;}#sk-container-id-1 div.sk-label:hover label.sk-toggleable__label {background-color: #d4ebff;}#sk-container-id-1 div.sk-serial::before {content: \"\";position: absolute;border-left: 1px solid gray;box-sizing: border-box;top: 0;bottom: 0;left: 50%;z-index: 0;}#sk-container-id-1 div.sk-serial {display: flex;flex-direction: column;align-items: center;background-color: white;padding-right: 0.2em;padding-left: 0.2em;position: relative;}#sk-container-id-1 div.sk-item {position: relative;z-index: 1;}#sk-container-id-1 div.sk-parallel {display: flex;align-items: stretch;justify-content: center;background-color: white;position: relative;}#sk-container-id-1 div.sk-item::before, #sk-container-id-1 div.sk-parallel-item::before {content: \"\";position: absolute;border-left: 1px solid gray;box-sizing: border-box;top: 0;bottom: 0;left: 50%;z-index: -1;}#sk-container-id-1 div.sk-parallel-item {display: flex;flex-direction: column;z-index: 1;position: relative;background-color: white;}#sk-container-id-1 div.sk-parallel-item:first-child::after {align-self: flex-end;width: 50%;}#sk-container-id-1 div.sk-parallel-item:last-child::after {align-self: flex-start;width: 50%;}#sk-container-id-1 div.sk-parallel-item:only-child::after {width: 0;}#sk-container-id-1 div.sk-dashed-wrapped {border: 1px dashed gray;margin: 0 0.4em 0.5em 0.4em;box-sizing: border-box;padding-bottom: 0.4em;background-color: white;}#sk-container-id-1 div.sk-label label {font-family: monospace;font-weight: bold;display: inline-block;line-height: 1.2em;}#sk-container-id-1 div.sk-label-container {text-align: center;}#sk-container-id-1 div.sk-container {/* jupyter's `normalize.less` sets `[hidden] { display: none; }` but bootstrap.min.css set `[hidden] { display: none !important; }` so we also need the `!important` here to be able to override the default hidden behavior on the sphinx rendered scikit-learn.org. See: https://github.com/scikit-learn/scikit-learn/issues/21755 */display: inline-block !important;position: relative;}#sk-container-id-1 div.sk-text-repr-fallback {display: none;}</style><div id=\"sk-container-id-1\" class=\"sk-top-container\"><div class=\"sk-text-repr-fallback\"><pre>LogisticRegression()</pre><b>In a Jupyter environment, please rerun this cell to show the HTML representation or trust the notebook. <br />On GitHub, the HTML representation is unable to render, please try loading this page with nbviewer.org.</b></div><div class=\"sk-container\" hidden><div class=\"sk-item\"><div class=\"sk-estimator sk-toggleable\"><input class=\"sk-toggleable__control sk-hidden--visually\" id=\"sk-estimator-id-1\" type=\"checkbox\" checked><label for=\"sk-estimator-id-1\" class=\"sk-toggleable__label sk-toggleable__label-arrow\">LogisticRegression</label><div class=\"sk-toggleable__content\"><pre>LogisticRegression()</pre></div></div></div></div></div>"
      ],
      "text/plain": [
       "LogisticRegression()"
      ]
     },
     "execution_count": 78,
     "metadata": {},
     "output_type": "execute_result"
    }
   ],
   "source": [
    "lr.fit(X_train,y_train)"
   ]
  },
  {
   "cell_type": "code",
   "execution_count": 79,
   "id": "5be5e63a",
   "metadata": {},
   "outputs": [
    {
     "data": {
      "text/plain": [
       "0.7575107125537616"
      ]
     },
     "execution_count": 79,
     "metadata": {},
     "output_type": "execute_result"
    }
   ],
   "source": [
    "lr.score(X_train,y_train)"
   ]
  },
  {
   "cell_type": "code",
   "execution_count": 80,
   "id": "a4a8ec6b",
   "metadata": {},
   "outputs": [],
   "source": [
    "y_pred = lr.predict(X_test)"
   ]
  },
  {
   "cell_type": "code",
   "execution_count": 81,
   "id": "3414cd36",
   "metadata": {},
   "outputs": [],
   "source": [
    "from sklearn.metrics import accuracy_score"
   ]
  },
  {
   "cell_type": "code",
   "execution_count": 82,
   "id": "84501167",
   "metadata": {},
   "outputs": [
    {
     "data": {
      "text/plain": [
       "0.7583427628039845"
      ]
     },
     "execution_count": 82,
     "metadata": {},
     "output_type": "execute_result"
    }
   ],
   "source": [
    "accuracy = accuracy_score(y_test,y_pred)\n",
    "accuracy"
   ]
  },
  {
   "cell_type": "code",
   "execution_count": 83,
   "id": "54cffd74",
   "metadata": {},
   "outputs": [
    {
     "data": {
      "text/plain": [
       "array([[  569, 24810],\n",
       "       [ 1245, 81194]])"
      ]
     },
     "execution_count": 83,
     "metadata": {},
     "output_type": "execute_result"
    }
   ],
   "source": [
    "from sklearn import metrics\n",
    "from sklearn.metrics import confusion_matrix\n",
    "confusion_matrix(y_test,y_pred)"
   ]
  },
  {
   "cell_type": "code",
   "execution_count": 84,
   "id": "0d330061",
   "metadata": {},
   "outputs": [
    {
     "name": "stdout",
     "output_type": "stream",
     "text": [
      "              precision    recall  f1-score   support\n",
      "\n",
      "           0       0.31      0.02      0.04     25379\n",
      "           1       0.77      0.98      0.86     82439\n",
      "\n",
      "    accuracy                           0.76    107818\n",
      "   macro avg       0.54      0.50      0.45    107818\n",
      "weighted avg       0.66      0.76      0.67    107818\n",
      "\n"
     ]
    }
   ],
   "source": [
    "print(metrics.classification_report(y_test, y_pred))"
   ]
  },
  {
   "cell_type": "code",
   "execution_count": null,
   "id": "e6fcbef4",
   "metadata": {},
   "outputs": [],
   "source": []
  }
 ],
 "metadata": {
  "kernelspec": {
   "display_name": "Python 3 (ipykernel)",
   "language": "python",
   "name": "python3"
  },
  "language_info": {
   "codemirror_mode": {
    "name": "ipython",
    "version": 3
   },
   "file_extension": ".py",
   "mimetype": "text/x-python",
   "name": "python",
   "nbconvert_exporter": "python",
   "pygments_lexer": "ipython3",
   "version": "3.9.12"
  }
 },
 "nbformat": 4,
 "nbformat_minor": 5
}
